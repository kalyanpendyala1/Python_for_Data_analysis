{
 "cells": [
  {
   "cell_type": "markdown",
   "metadata": {},
   "source": [
    "###### Python Basics, Magic functions, Iteration, scalar types, type casting, string concatenation, Date times, control flow, terenary expressions"
   ]
  },
  {
   "cell_type": "code",
   "execution_count": 19,
   "metadata": {},
   "outputs": [
    {
     "data": {
      "text/plain": [
       "'\\n###### Synopsys\\n\\n1.Magic Functions\\n    %load - loads python file into jupyter notebook\\n    %matplotlib inline integrates matplotlib into jupyter notebook\\n\\n2.isinstace - checks the datatype.\\n3.Iteration: iteration is a process of looping over a data structure and picking each element from the data structure \\n             one after the another.anyting that appear on the right side of for loop (for x in iterable:).\\n  \\n  Iterator: Object which is used to iterate over. Iter()\\n  Iterable: Something you can iterate over. Lists, dictionary, tuples, string are iterables.\\n\\n4.Mutable - Able to modify the elements\\n            Lists, dict, numpy array\\n5.Immutable - Strings and tuples\\n\\n6.Python Sclar types - int, float, byte, bool, string\\n                     - String is iterable\\n                     - rest of them are not iterables.\\n\\n7.slicing\\n8.Difference between is and = : is checks if both variables point to same object\\n                                =  check if both the variables has the same values\\n9.String concatination\\n10.String formating\\n11.Unicode and UT\\n  \\n'"
      ]
     },
     "execution_count": 19,
     "metadata": {},
     "output_type": "execute_result"
    }
   ],
   "source": [
    "\"\"\"\n",
    "###### Synopsys\n",
    "\n",
    "1.Magic Functions\n",
    "    %load - loads python file into jupyter notebook\n",
    "    %matplotlib inline integrates matplotlib into jupyter notebook\n",
    "\n",
    "2.isinstace - checks the datatype.\n",
    "3.Iteration: iteration is a process of looping over a data structure and picking each element from the data structure \n",
    "             one after the another.anyting that appear on the right side of for loop (for x in iterable:).\n",
    "  \n",
    "  Iterator: Object which is used to iterate over. Iter()\n",
    "  Iterable: Something you can iterate over. Lists, dictionary, tuples, string are iterables.\n",
    "\n",
    "4.Mutable - Able to modify the elements\n",
    "            Lists, dict, numpy array\n",
    "5.Immutable - Strings and tuples\n",
    "\n",
    "6.Python Sclar types - int, float, byte, bool, string\n",
    "                     - String is iterable\n",
    "                     - rest of them are not iterables.\n",
    "\n",
    "7.slicing\n",
    "8.Difference between is and = : is checks if both variables point to same object\n",
    "                                =  check if both the variables has the same values\n",
    "9.String concatination\n",
    "10.String formating\n",
    "11.Unicode and UTF-8 - Unicode : Standard Character Set\n",
    "                       UTF-8 :  it is a algorithm that translates data (numeric/character) into bytes\n",
    "                       Encode : Idea to Byte\n",
    "                       Decode : Byte to Idea\n",
    "\n",
    "12.None  - None is a null type in python\n",
    "           None can also be used as default argument for methods.\n",
    "\n",
    "13.Type casting    - str, int, float are scalar types in python. apart from scalar types they are also used as function to typecast the variables.\n",
    "\n",
    "14.Control Flow     - for loop - iterates over collection\n",
    "                      if\n",
    "                      while\n",
    "                      continue - skips a block of code\n",
    "                      break - terminates innermost for loop\n",
    "15.pass  - no-op statement in python\n",
    "           used in block where no action is required.\n",
    "  \n",
    "\"\"\""
   ]
  },
  {
   "cell_type": "code",
   "execution_count": null,
   "metadata": {},
   "outputs": [],
   "source": [
    "# %load is magic function lets you load python files into jupyter notebook"
   ]
  },
  {
   "cell_type": "code",
   "execution_count": 4,
   "metadata": {
    "scrolled": true
   },
   "outputs": [
    {
     "name": "stdout",
     "output_type": "stream",
     "text": [
      "I am running successfully\n"
     ]
    }
   ],
   "source": [
    "# %load prac.py\n",
    "print('I am running successfully')"
   ]
  },
  {
   "cell_type": "code",
   "execution_count": 10,
   "metadata": {},
   "outputs": [],
   "source": [
    "# it is used to integrate matplotlib with jupyter notebook\n",
    "%matplotlib inline"
   ]
  },
  {
   "cell_type": "code",
   "execution_count": 12,
   "metadata": {},
   "outputs": [
    {
     "data": {
      "text/plain": [
       "[1, 2, 3, 4, 5]"
      ]
     },
     "execution_count": 12,
     "metadata": {},
     "output_type": "execute_result"
    }
   ],
   "source": [
    "# every number, String, data structure, function, class, module so on in python is a python object.\n",
    "\n",
    "# In some languages assignment causes data to be copied.In python a , b now refer to the same object\n",
    "\n",
    "a = [1,2,3,4]\n",
    "b = a\n",
    "a.append(5)\n",
    "b"
   ]
  },
  {
   "cell_type": "code",
   "execution_count": 16,
   "metadata": {},
   "outputs": [
    {
     "data": {
      "text/plain": [
       "False"
      ]
     },
     "execution_count": 16,
     "metadata": {},
     "output_type": "execute_result"
    }
   ],
   "source": [
    "# isinstance checks the data type of the object \n",
    "isinstance(b, int)\n",
    "isinstance(b, str)\n"
   ]
  },
  {
   "cell_type": "code",
   "execution_count": 17,
   "metadata": {},
   "outputs": [
    {
     "data": {
      "text/plain": [
       "True"
      ]
     },
     "execution_count": 17,
     "metadata": {},
     "output_type": "execute_result"
    }
   ],
   "source": [
    "isinstance(b, list)"
   ]
  },
  {
   "cell_type": "markdown",
   "metadata": {},
   "source": [
    "######<tab> shows the methods according to the data type. Whether it may be string, int, list each has its own functions. \n",
    "#when you hit tab it shows available functions for that particular data type.\n",
    "\n"
   ]
  },
  {
   "cell_type": "markdown",
   "metadata": {},
   "source": [
    "###### ITERATION, ITERABLE AND ITERATOR\n",
    "\n",
    "###### Iteration is a general term for taking each item from something, one after another. Anytime you use a loop, explicit or implicit, to go over a group of items, that is iteration.-\n",
    "\n",
    "iteration is a process of looping over data structure and picking each element from the data structure one after the another.anyting that appear on the right side of for loop (for x in iterable:).\n",
    "\n",
    "Lists, dictionary, string, tuple are iterables.\n",
    "int, float, bool are not iterables. \n",
    "tuple is iterable but not mutable.\n",
    "###### iterable is something you can be iterated over. Ex: List\n",
    "###### iterator is a object which is used to iterate over a iterable. Ex. iter()\n",
    "\n",
    "when a loop is executed, statement calls iter(). Iter() defines __next__() method which will access the elements one by one. Iteration will be terminated after all the elements are accessed.\n",
    "\n",
    "\n",
    "s = 'cat'          #s is a iterable\n",
    "                   #s has string object\n",
    "                   \n",
    "t = iter(s)\n",
    "                    t is iterator\n",
    "                    t has next() method."
   ]
  },
  {
   "cell_type": "code",
   "execution_count": 4,
   "metadata": {},
   "outputs": [
    {
     "data": {
      "text/plain": [
       "True"
      ]
     },
     "execution_count": 4,
     "metadata": {},
     "output_type": "execute_result"
    }
   ],
   "source": [
    "# returns true so string is iterable\n",
    "\n",
    "def isiterable(obj):\n",
    "    try:\n",
    "        iter(obj)\n",
    "        return True\n",
    "    except TypeError:\n",
    "        return False\n",
    "isiterable('this is string')"
   ]
  },
  {
   "cell_type": "code",
   "execution_count": 52,
   "metadata": {},
   "outputs": [
    {
     "name": "stdout",
     "output_type": "stream",
     "text": [
      "<class 'int'>\n"
     ]
    },
    {
     "data": {
      "text/plain": [
       "False"
      ]
     },
     "execution_count": 52,
     "metadata": {},
     "output_type": "execute_result"
    }
   ],
   "source": [
    "#retuns false so  int is not iterable\n",
    "\n",
    "a = 5\n",
    "print(type(a))\n",
    "isiterable(a)"
   ]
  },
  {
   "cell_type": "code",
   "execution_count": 53,
   "metadata": {},
   "outputs": [
    {
     "name": "stdout",
     "output_type": "stream",
     "text": [
      "<class 'list'>\n"
     ]
    },
    {
     "data": {
      "text/plain": [
       "True"
      ]
     },
     "execution_count": 53,
     "metadata": {},
     "output_type": "execute_result"
    }
   ],
   "source": [
    "# retuns true because list is iterable\n",
    "\n",
    "b = [1,2,3,4]\n",
    "print(type(b))\n",
    "isiterable(b)"
   ]
  },
  {
   "cell_type": "code",
   "execution_count": 6,
   "metadata": {},
   "outputs": [
    {
     "name": "stdout",
     "output_type": "stream",
     "text": [
      "<class 'dict'>\n"
     ]
    },
    {
     "data": {
      "text/plain": [
       "True"
      ]
     },
     "execution_count": 6,
     "metadata": {},
     "output_type": "execute_result"
    }
   ],
   "source": [
    "dic = {'a': 123}\n",
    "print(type(dic))\n",
    "isiterable(dic)"
   ]
  },
  {
   "cell_type": "code",
   "execution_count": 8,
   "metadata": {},
   "outputs": [
    {
     "name": "stdout",
     "output_type": "stream",
     "text": [
      "<class 'tuple'>\n"
     ]
    },
    {
     "data": {
      "text/plain": [
       "True"
      ]
     },
     "execution_count": 8,
     "metadata": {},
     "output_type": "execute_result"
    }
   ],
   "source": [
    "tup = (1,2,3)\n",
    "print(type(tup))\n",
    "isiterable(tup)"
   ]
  },
  {
   "cell_type": "code",
   "execution_count": null,
   "metadata": {},
   "outputs": [],
   "source": [
    "# dict function create dictionary\n",
    "# (key = value, key=value)\n",
    "\n",
    "dict(name = 'john', value = 123, country = 'USA')"
   ]
  },
  {
   "cell_type": "markdown",
   "metadata": {},
   "source": [
    "###### module is a simply a file with .py externsion\n",
    "it contains python code.If we want to access variables and code from that file we use import statement"
   ]
  },
  {
   "cell_type": "code",
   "execution_count": 37,
   "metadata": {},
   "outputs": [
    {
     "data": {
      "text/plain": [
       "True"
      ]
     },
     "execution_count": 37,
     "metadata": {},
     "output_type": "execute_result"
    }
   ],
   "source": [
    "a = [1,2,3]\n",
    "b = a\n",
    "c = list(a)\n",
    "a is b"
   ]
  },
  {
   "cell_type": "code",
   "execution_count": 9,
   "metadata": {},
   "outputs": [
    {
     "ename": "NameError",
     "evalue": "name 'c' is not defined",
     "output_type": "error",
     "traceback": [
      "\u001b[1;31m---------------------------------------------------------------------------\u001b[0m",
      "\u001b[1;31mNameError\u001b[0m                                 Traceback (most recent call last)",
      "\u001b[1;32m<ipython-input-9-431678807b08>\u001b[0m in \u001b[0;36m<module>\u001b[1;34m\u001b[0m\n\u001b[0;32m      2\u001b[0m \u001b[1;31m# comparing with is and == is not same\u001b[0m\u001b[1;33m\u001b[0m\u001b[1;33m\u001b[0m\u001b[1;33m\u001b[0m\u001b[0m\n\u001b[0;32m      3\u001b[0m \u001b[1;33m\u001b[0m\u001b[0m\n\u001b[1;32m----> 4\u001b[1;33m \u001b[0ma\u001b[0m \u001b[1;32mis\u001b[0m \u001b[0mc\u001b[0m\u001b[1;33m\u001b[0m\u001b[1;33m\u001b[0m\u001b[0m\n\u001b[0m",
      "\u001b[1;31mNameError\u001b[0m: name 'c' is not defined"
     ]
    }
   ],
   "source": [
    "# list function always creates new python list. That means it is creating new python object.\n",
    "# comparing with is and == is not same\n",
    "\n",
    "a is c"
   ]
  },
  {
   "cell_type": "markdown",
   "metadata": {},
   "source": [
    "###### Difference between is and =="
   ]
  },
  {
   "cell_type": "code",
   "execution_count": 54,
   "metadata": {},
   "outputs": [
    {
     "data": {
      "text/plain": [
       "False"
      ]
     },
     "execution_count": 54,
     "metadata": {},
     "output_type": "execute_result"
    }
   ],
   "source": [
    "# is checks if both variables point to the same object\n",
    "# == checks if both the values of the two variables are same.\n",
    "\n",
    "a == c"
   ]
  },
  {
   "cell_type": "markdown",
   "metadata": {},
   "source": [
    "###### lists, dicts, numpy arrays are mutable\n",
    "###### strings and tuples are immutable"
   ]
  },
  {
   "cell_type": "code",
   "execution_count": 56,
   "metadata": {},
   "outputs": [
    {
     "data": {
      "text/plain": [
       "['foo', '2', [4, 5]]"
      ]
     },
     "execution_count": 56,
     "metadata": {},
     "output_type": "execute_result"
    }
   ],
   "source": [
    "# object values can be modified in list, dictionaries and numpy arrays\n",
    "\n",
    "a_list = ['foo', '2', [4,6]]\n",
    "a_list[2] = [4,5]\n",
    "a_list"
   ]
  },
  {
   "cell_type": "code",
   "execution_count": 2,
   "metadata": {},
   "outputs": [
    {
     "ename": "TypeError",
     "evalue": "'tuple' object does not support item assignment",
     "output_type": "error",
     "traceback": [
      "\u001b[1;31m---------------------------------------------------------------------------\u001b[0m",
      "\u001b[1;31mTypeError\u001b[0m                                 Traceback (most recent call last)",
      "\u001b[1;32m<ipython-input-2-e210fdaa22c7>\u001b[0m in \u001b[0;36m<module>\u001b[1;34m\u001b[0m\n\u001b[0;32m      1\u001b[0m \u001b[0ma_tuple\u001b[0m \u001b[1;33m=\u001b[0m \u001b[1;33m(\u001b[0m\u001b[1;36m3\u001b[0m\u001b[1;33m,\u001b[0m\u001b[1;36m5\u001b[0m\u001b[1;33m,\u001b[0m\u001b[1;33m(\u001b[0m\u001b[1;36m4\u001b[0m\u001b[1;33m,\u001b[0m\u001b[1;36m5\u001b[0m\u001b[1;33m)\u001b[0m\u001b[1;33m)\u001b[0m\u001b[1;33m\u001b[0m\u001b[1;33m\u001b[0m\u001b[0m\n\u001b[1;32m----> 2\u001b[1;33m \u001b[0ma_tuple\u001b[0m\u001b[1;33m[\u001b[0m\u001b[1;36m1\u001b[0m\u001b[1;33m]\u001b[0m \u001b[1;33m=\u001b[0m \u001b[1;36m5\u001b[0m\u001b[1;33m\u001b[0m\u001b[1;33m\u001b[0m\u001b[0m\n\u001b[0m",
      "\u001b[1;31mTypeError\u001b[0m: 'tuple' object does not support item assignment"
     ]
    }
   ],
   "source": [
    "a_tuple = (3,5,(4,5))\n",
    "a_tuple[1] = 5"
   ]
  },
  {
   "cell_type": "code",
   "execution_count": 6,
   "metadata": {},
   "outputs": [
    {
     "data": {
      "text/plain": [
       "['The new value', 5, (4, 5)]"
      ]
     },
     "execution_count": 6,
     "metadata": {},
     "output_type": "execute_result"
    }
   ],
   "source": [
    "# if you want to change the elements in the tuple convert into list and change\n",
    "\n",
    "ex = list(a_tuple)\n",
    "ex[0] = 'The new value'\n",
    "ex"
   ]
  },
  {
   "cell_type": "markdown",
   "metadata": {},
   "source": [
    "######  Python scalar types\n",
    "these are single value types are also called as sclars.\n",
    "None,\n",
    "Str - String type - UTF-8,\n",
    "bytes,\n",
    "float,\n",
    "bool,\n",
    "int.\n"
   ]
  },
  {
   "cell_type": "code",
   "execution_count": 50,
   "metadata": {},
   "outputs": [
    {
     "data": {
      "text/plain": [
       "str"
      ]
     },
     "execution_count": 50,
     "metadata": {},
     "output_type": "execute_result"
    }
   ],
   "source": [
    "# primary python types for numbers are int and float\n",
    "# python strings are immutable.\n",
    "# many python objects can be converted into strings using str function\n",
    "\n",
    "a = 5.6\n",
    "s = str(a)\n",
    "type(s)"
   ]
  },
  {
   "cell_type": "code",
   "execution_count": 8,
   "metadata": {},
   "outputs": [
    {
     "data": {
      "text/plain": [
       "['p', 'y', 't', 'h', 'o', 'n']"
      ]
     },
     "execution_count": 8,
     "metadata": {},
     "output_type": "execute_result"
    }
   ],
   "source": [
    "\"\"\"\n",
    "strings are sequence of unicode charaters and therefore can be treated like other sequences\n",
    "such as lists and tuples.\n",
    "\"\"\"\n",
    "\n",
    "s = 'python'\n",
    "list(s)"
   ]
  },
  {
   "cell_type": "code",
   "execution_count": 9,
   "metadata": {},
   "outputs": [
    {
     "ename": "TypeError",
     "evalue": "'int' object is not iterable",
     "output_type": "error",
     "traceback": [
      "\u001b[1;31m---------------------------------------------------------------------------\u001b[0m",
      "\u001b[1;31mTypeError\u001b[0m                                 Traceback (most recent call last)",
      "\u001b[1;32m<ipython-input-9-1b44bbaa20ea>\u001b[0m in \u001b[0;36m<module>\u001b[1;34m\u001b[0m\n\u001b[0;32m      2\u001b[0m \u001b[1;33m\u001b[0m\u001b[0m\n\u001b[0;32m      3\u001b[0m \u001b[0ma\u001b[0m \u001b[1;33m=\u001b[0m \u001b[1;36m123456\u001b[0m\u001b[1;33m\u001b[0m\u001b[1;33m\u001b[0m\u001b[0m\n\u001b[1;32m----> 4\u001b[1;33m \u001b[0mlist\u001b[0m\u001b[1;33m(\u001b[0m\u001b[0ma\u001b[0m\u001b[1;33m)\u001b[0m\u001b[1;33m\u001b[0m\u001b[1;33m\u001b[0m\u001b[0m\n\u001b[0m\u001b[0;32m      5\u001b[0m \u001b[1;33m\u001b[0m\u001b[0m\n\u001b[0;32m      6\u001b[0m \u001b[1;31m#only string is itrable not int\u001b[0m\u001b[1;33m\u001b[0m\u001b[1;33m\u001b[0m\u001b[1;33m\u001b[0m\u001b[0m\n",
      "\u001b[1;31mTypeError\u001b[0m: 'int' object is not iterable"
     ]
    }
   ],
   "source": [
    "# when you try to do the same thing with the int\n",
    "\n",
    "a = 123456\n",
    "list(a)\n",
    "\n",
    "#only string is itrable not int"
   ]
  },
  {
   "cell_type": "code",
   "execution_count": 11,
   "metadata": {},
   "outputs": [
    {
     "data": {
      "text/plain": [
       "'pyt'"
      ]
     },
     "execution_count": 11,
     "metadata": {},
     "output_type": "execute_result"
    }
   ],
   "source": [
    "#this is called slicing. slicing will be implemented for many kinds of python seqeunces\n",
    "\n",
    "s[:3]"
   ]
  },
  {
   "cell_type": "code",
   "execution_count": 12,
   "metadata": {},
   "outputs": [
    {
     "data": {
      "text/plain": [
       "'nohtyp'"
      ]
     },
     "execution_count": 12,
     "metadata": {},
     "output_type": "execute_result"
    }
   ],
   "source": [
    "# to reverse a string\n",
    "\n",
    "s[::-1]"
   ]
  },
  {
   "cell_type": "markdown",
   "metadata": {},
   "source": [
    "###### string concatenation"
   ]
  },
  {
   "cell_type": "code",
   "execution_count": 63,
   "metadata": {},
   "outputs": [
    {
     "data": {
      "text/plain": [
       "'python is a programming language'"
      ]
     },
     "execution_count": 63,
     "metadata": {},
     "output_type": "execute_result"
    }
   ],
   "source": [
    "one = 'python is a '\n",
    "two = 'programming language'\n",
    "one+two"
   ]
  },
  {
   "cell_type": "markdown",
   "metadata": {},
   "source": [
    "###### string formatting"
   ]
  },
  {
   "cell_type": "code",
   "execution_count": 70,
   "metadata": {},
   "outputs": [
    {
     "name": "stdout",
     "output_type": "stream",
     "text": [
      "70.00 rupees are worth USD 1\n",
      "100.00 diarham are worth USD 2\n"
     ]
    }
   ],
   "source": [
    "template = '{0:.2f} {1:s} are worth USD {2:d}'\n",
    "\n",
    "# {0:.2f} means format first argument(parameter) as floating point number\n",
    "#{1:s} means format second argument as string\n",
    "# {2:d} means to format the third argument as exeact integer\n",
    "\n",
    "# pass sequence of arguments to format method:\n",
    "\n",
    "print(template.format(70, 'rupees', 1))\n",
    "print(template.format(100, 'diarham', 2))"
   ]
  },
  {
   "cell_type": "markdown",
   "metadata": {},
   "source": [
    "###### Byte and unicode"
   ]
  },
  {
   "cell_type": "code",
   "execution_count": 17,
   "metadata": {},
   "outputs": [
    {
     "data": {
      "text/plain": [
       "str"
      ]
     },
     "execution_count": 17,
     "metadata": {},
     "output_type": "execute_result"
    }
   ],
   "source": [
    "val = 'español'\n",
    "val"
   ]
  },
  {
   "cell_type": "code",
   "execution_count": 77,
   "metadata": {},
   "outputs": [
    {
     "name": "stdout",
     "output_type": "stream",
     "text": [
      "b'espa\\xc3\\xb1ol'\n",
      "<class 'bytes'>\n"
     ]
    }
   ],
   "source": [
    "# converting Unicode to its UTF-8  bytes representation using encode method\n",
    "val_utf8 = val.encode('utf-8')\n",
    "print(val_utf8)\n",
    "print(type(val_utf8))"
   ]
  },
  {
   "cell_type": "code",
   "execution_count": 81,
   "metadata": {},
   "outputs": [
    {
     "name": "stdout",
     "output_type": "stream",
     "text": [
      "español\n"
     ]
    },
    {
     "data": {
      "text/plain": [
       "str"
      ]
     },
     "execution_count": 81,
     "metadata": {},
     "output_type": "execute_result"
    }
   ],
   "source": [
    "# converting UTF-8 bytes back to unicode\n",
    "val = val_utf8.decode('utf-8')\n",
    "print(val)\n",
    "type(val)"
   ]
  },
  {
   "cell_type": "markdown",
   "metadata": {},
   "source": [
    "###### unicode is a standard.\n",
    "Encoding is taking an idea and converting it into bytes. Decoding is different,\n",
    "taking the bytes and converting back to idea.\n",
    "\n",
    "###### UTF-8 is an encoding - Unicode is a character set\n",
    "\n",
    "A character set is a list of characters with unique numbers (these numbers are sometimes referred to as \"code points\"). For example, in the Unicode character set, the number for A is 41.\n",
    "\n",
    "An encoding on the other hand, is an algorithm that translates a list of numbers to binary so it can be stored on disk. For example UTF-8 would translate the number sequence 1, 2, 3, 4 like this:\n",
    "\n",
    "00000001 00000010 00000011 0000010"
   ]
  },
  {
   "cell_type": "markdown",
   "metadata": {},
   "source": [
    "###### Type Casting"
   ]
  },
  {
   "cell_type": "code",
   "execution_count": 85,
   "metadata": {},
   "outputs": [
    {
     "name": "stdout",
     "output_type": "stream",
     "text": [
      "<class 'str'>\n",
      "<class 'float'>\n",
      "<class 'int'>\n",
      "<class 'str'>\n"
     ]
    }
   ],
   "source": [
    "# str, bool, int and float types are also functions that can be used to cast values to those types.\n",
    "\n",
    "s = '3.14'\n",
    "print(type(s))\n",
    "\n",
    "# using float function to convert from string to float\n",
    "fval = float(s)\n",
    "print(type(fval))\n",
    "\n",
    "s = 12\n",
    "print(type(s))\n",
    "s_str = str(s)\n",
    "print(type(s_str))"
   ]
  },
  {
   "cell_type": "markdown",
   "metadata": {},
   "source": [
    "###### None\n",
    "None is the Python null type value. If a function does not explicitly return a value, it implicitly returns None.\n",
    "\n",
    "None can also be used as default value for function arguments."
   ]
  },
  {
   "cell_type": "code",
   "execution_count": 87,
   "metadata": {},
   "outputs": [],
   "source": [
    "a = None"
   ]
  },
  {
   "cell_type": "code",
   "execution_count": 88,
   "metadata": {},
   "outputs": [
    {
     "data": {
      "text/plain": [
       "True"
      ]
     },
     "execution_count": 88,
     "metadata": {},
     "output_type": "execute_result"
    }
   ],
   "source": [
    "a is None"
   ]
  },
  {
   "cell_type": "code",
   "execution_count": 2,
   "metadata": {},
   "outputs": [
    {
     "data": {
      "text/plain": [
       "True"
      ]
     },
     "execution_count": 2,
     "metadata": {},
     "output_type": "execute_result"
    }
   ],
   "source": [
    "b = 4\n",
    "b is not None"
   ]
  },
  {
   "cell_type": "code",
   "execution_count": 3,
   "metadata": {},
   "outputs": [
    {
     "data": {
      "text/plain": [
       "False"
      ]
     },
     "execution_count": 3,
     "metadata": {},
     "output_type": "execute_result"
    }
   ],
   "source": [
    "b is None"
   ]
  },
  {
   "cell_type": "markdown",
   "metadata": {},
   "source": [
    "###### dates and Times"
   ]
  },
  {
   "cell_type": "code",
   "execution_count": 95,
   "metadata": {},
   "outputs": [
    {
     "name": "stdout",
     "output_type": "stream",
     "text": [
      "29\n",
      "30\n",
      "2011-10-29\n"
     ]
    }
   ],
   "source": [
    "# builtin python datetime module provides datetime, date and time types. \n",
    "# datetime type combines infomration stored in date and time\n",
    "\n",
    "from datetime import datetime, date, time\n",
    "dt = datetime(2011, 10, 29, 20, 30, 21)\n",
    "print(dt.day)\n",
    "print(dt.minute)\n",
    "print(dt.date())\n"
   ]
  },
  {
   "cell_type": "code",
   "execution_count": 97,
   "metadata": {},
   "outputs": [
    {
     "name": "stdout",
     "output_type": "stream",
     "text": [
      "2011-10-29\n",
      "20:30:21\n"
     ]
    }
   ],
   "source": [
    "# you can extract the date and time by calling date and time methods\n",
    "\n",
    "print(dt.date())\n",
    "print(dt.time())"
   ]
  },
  {
   "cell_type": "code",
   "execution_count": 100,
   "metadata": {},
   "outputs": [
    {
     "name": "stdout",
     "output_type": "stream",
     "text": [
      "10/29/11\n",
      "2011-30-10/29/11 20H:30M:21S\n"
     ]
    }
   ],
   "source": [
    "# strftime method formats datetime as string\n",
    "# y for two dight year; Y for 4 digit year\n",
    "\n",
    "print(dt.strftime('%m/%d/%y'))\n",
    "print(dt.strftime('%Y-%M-%D %HH:%MM:%SS'))"
   ]
  },
  {
   "cell_type": "code",
   "execution_count": 103,
   "metadata": {},
   "outputs": [
    {
     "data": {
      "text/plain": [
       "datetime.datetime(2011, 10, 29, 0, 0)"
      ]
     },
     "execution_count": 103,
     "metadata": {},
     "output_type": "execute_result"
    }
   ],
   "source": [
    "# when you are aggregating data, it is useful to replace time fields with a series of date times\n",
    "\n",
    "dt.replace(hour=0,minute=0, second=0)"
   ]
  },
  {
   "cell_type": "code",
   "execution_count": 105,
   "metadata": {},
   "outputs": [
    {
     "data": {
      "text/plain": [
       "datetime.timedelta(days=2192, seconds=49199)"
      ]
     },
     "execution_count": 105,
     "metadata": {},
     "output_type": "execute_result"
    }
   ],
   "source": [
    "# difference fo two date and times produces delta types\n",
    "\n",
    "dt2 = datetime(2017, 10, 30, 10, 10, 20)\n",
    "delta = dt2-dt\n",
    "delta"
   ]
  },
  {
   "cell_type": "markdown",
   "metadata": {},
   "source": [
    "###### Control Flow "
   ]
  },
  {
   "cell_type": "code",
   "execution_count": 109,
   "metadata": {},
   "outputs": [
    {
     "name": "stdout",
     "output_type": "stream",
     "text": [
      "This is possible\n"
     ]
    }
   ],
   "source": [
    "x = 30\n",
    "if x>0:\n",
    "    print('This is possible')"
   ]
  },
  {
   "cell_type": "code",
   "execution_count": 110,
   "metadata": {},
   "outputs": [
    {
     "name": "stdout",
     "output_type": "stream",
     "text": [
      "nothing works\n"
     ]
    }
   ],
   "source": [
    "if x<0:\n",
    "    print('x is less than 0')\n",
    "elif x == 20:\n",
    "    print('x is equal to 20')\n",
    "elif x == 10:\n",
    "    print('x equals to 10')\n",
    "else:\n",
    "    print('nothing works')"
   ]
  },
  {
   "cell_type": "code",
   "execution_count": null,
   "metadata": {},
   "outputs": [],
   "source": [
    "# for loops are for iterating over a collection (like list of tuple) or an iterator.\n",
    "\n",
    "for value in collection:\n",
    "    # do something"
   ]
  },
  {
   "cell_type": "code",
   "execution_count": 114,
   "metadata": {},
   "outputs": [
    {
     "data": {
      "text/plain": [
       "15"
      ]
     },
     "execution_count": 114,
     "metadata": {},
     "output_type": "execute_result"
    }
   ],
   "source": [
    "# you can advance for loop to the next iteration, skipping the remainder of the block using continue\n",
    "sequence = [1,2,3,None,4,5,None]\n",
    "total = 0\n",
    "\n",
    "for x in sequence:\n",
    "    if x is None:\n",
    "        continue\n",
    "    total +=x\n",
    "\n",
    "total"
   ]
  },
  {
   "cell_type": "code",
   "execution_count": 122,
   "metadata": {},
   "outputs": [
    {
     "data": {
      "text/plain": [
       "1"
      ]
     },
     "execution_count": 122,
     "metadata": {},
     "output_type": "execute_result"
    }
   ],
   "source": [
    "# A break keyword only terminates the innermosst for loop. outer loops will be continue to run\n",
    "\n",
    "sequence = [1,5,6,7,8,9]\n",
    "total_until_5 =0\n",
    "\n",
    "for x in sequence:\n",
    "    if x == 5:\n",
    "        break\n",
    "    total_until_5+=x\n",
    "\n",
    "total_until_5"
   ]
  },
  {
   "cell_type": "code",
   "execution_count": 124,
   "metadata": {},
   "outputs": [
    {
     "name": "stdout",
     "output_type": "stream",
     "text": [
      "(1, 0)\n",
      "(1, 1)\n",
      "(5, 0)\n",
      "(5, 1)\n",
      "(6, 0)\n",
      "(6, 1)\n",
      "(7, 0)\n",
      "(7, 1)\n",
      "(8, 0)\n",
      "(8, 1)\n",
      "(9, 0)\n",
      "(9, 1)\n"
     ]
    }
   ],
   "source": [
    "for x in sequence:\n",
    "    for j in range(2):\n",
    "        if j > x:\n",
    "            break\n",
    "        print((x,j))"
   ]
  },
  {
   "cell_type": "code",
   "execution_count": 125,
   "metadata": {},
   "outputs": [
    {
     "name": "stdout",
     "output_type": "stream",
     "text": [
      "positive\n"
     ]
    }
   ],
   "source": [
    "# while loop specifies condition and block of code that is to be executed until the condition evaluate flase or loop is explicitly ended with break.\n",
    "\n",
    "# Pass is no-op statement in python.\n",
    "# it can be used in block where no action is to be taken. \n",
    "# it is only required because python uses whitespace to delimit blocks\n",
    "\n",
    "if x < 0:\n",
    "    print('negative')\n",
    "elif x == 0:\n",
    "    pass\n",
    "else:\n",
    "    print('positive')"
   ]
  },
  {
   "cell_type": "code",
   "execution_count": 127,
   "metadata": {},
   "outputs": [
    {
     "data": {
      "text/plain": [
       "range(0, 10)"
      ]
     },
     "execution_count": 127,
     "metadata": {},
     "output_type": "execute_result"
    }
   ],
   "source": [
    "# range function returns an iterator that yields a sequence of evenly spaced integers\n",
    "\n",
    "range(10)\n"
   ]
  },
  {
   "cell_type": "code",
   "execution_count": 130,
   "metadata": {},
   "outputs": [
    {
     "data": {
      "text/plain": [
       "[0, 2, 4, 6, 8, 10, 12, 14, 16, 18]"
      ]
     },
     "execution_count": 130,
     "metadata": {},
     "output_type": "execute_result"
    }
   ],
   "source": [
    "list(range(10))\n",
    "\n",
    "list(range(0,20,2)) # start end step"
   ]
  },
  {
   "cell_type": "code",
   "execution_count": 132,
   "metadata": {},
   "outputs": [
    {
     "name": "stdout",
     "output_type": "stream",
     "text": [
      "0\n",
      "1\n",
      "2\n",
      "3\n"
     ]
    }
   ],
   "source": [
    "seq = [1,2,3,4]\n",
    "for x in range(len(seq)):\n",
    "    print(x)"
   ]
  },
  {
   "cell_type": "markdown",
   "metadata": {},
   "source": [
    "###### Terenary Expression allows you to combine an if-else block that produces a value into single line or expression."
   ]
  },
  {
   "cell_type": "code",
   "execution_count": 133,
   "metadata": {},
   "outputs": [
    {
     "data": {
      "text/plain": [
       "'Non negative'"
      ]
     },
     "execution_count": 133,
     "metadata": {},
     "output_type": "execute_result"
    }
   ],
   "source": [
    "x = 5\n",
    "'Non negative' if x >= 0 else 'negative'"
   ]
  },
  {
   "cell_type": "code",
   "execution_count": null,
   "metadata": {},
   "outputs": [],
   "source": []
  },
  {
   "cell_type": "code",
   "execution_count": null,
   "metadata": {},
   "outputs": [],
   "source": []
  }
 ],
 "metadata": {
  "kernelspec": {
   "display_name": "Python 3",
   "language": "python",
   "name": "python3"
  },
  "language_info": {
   "codemirror_mode": {
    "name": "ipython",
    "version": 3
   },
   "file_extension": ".py",
   "mimetype": "text/x-python",
   "name": "python",
   "nbconvert_exporter": "python",
   "pygments_lexer": "ipython3",
   "version": "3.7.2"
  }
 },
 "nbformat": 4,
 "nbformat_minor": 2
}
