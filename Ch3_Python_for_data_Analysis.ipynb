{
 "cells": [
  {
   "cell_type": "code",
   "execution_count": 1,
   "metadata": {},
   "outputs": [
    {
     "data": {
      "text/plain": [
       "\"\\nNumPy - Numerical Python\\n\\n-NumPy arrays helps you to perform batch operations on data without using loops.\\n-Numpy calls it Vectorization.\\n-Vectorization is used to speedup code without using loops. \\n-Various operations are performed on vectors like dot product, outer product, elementwise multiplication.\\n-NumPy has a great collection of methods for Mathematical, Logical, Shape manipulation, sorting, selecting, I/O, Fourier Transformations, Basic Linear Algebra, Basic Statistical Operations and much more\\n-Element-wise Multiplication -- Product of elements of same index.\\n\\n-Data structure in NumPy is N-Dimensional Array\\n-it is fast and flexible container for large datasets \\n-NumPy library of algorithms are wirtten in C. Thats why it takes less space and time\\n\\n-Three Different Clocks\\n    1.Wall Clock Time - Standard time we measure in stopwatch\\n    2.User Time - time spend by CPU running code. Does not include I/O operations, Kernel time \\n    3.CPU Time - Total time including time spent on I/O operations, Kernel time\\n\\nDIFFERENCES BETWEEN LISTS AND ARRAYS\\n    - Array slices are views of original array.\\n    - Arrays are more useful for arithmetic operations.\\n    - Arrays are used as container for single data type where list can hold multiple data types.\\n    - NumPy arrays are 10-100 times faster than lists.\\n\\nSIMILARITIES BETWEEN LIST AND ARRAYS\\n    - used for storing data\\n    - Mutable\\n    - Indexed and iterated through\\n    - can be sliced\\n\\nDIFFERENCES BETWEN return and print\\n    - Return statements are used to end the execution of a function and if return is not given, by default it returns None\\n    - print prints\\n\\nnp.array() - used to declare numpy array\\n           - Nested sequences like lists or dicts of equal lengths will be converted into Multi-dimensional arrays\\n           - Another method to create Multidimensional arrays are by np.reshape() method.\\nnp.random.randn()  - used to generate random numbers\\narr.shape\\narr.ndim\\narr.dtype\\narr.size\\nempty()  - creates empty arrays. It is not technically empty. It initializes garbage values into it\\nreshape()\\nzeros()\\nones()\\neye()    - accepts tuples as parameters to create multidimensional arrays. \\narange() - NumPy's version of range() - exclusive of endpoint.\\ndype    -  special object contains information about meta data.\\n\\nYou can explicitly mention what kind of data type you need into array in array declaration statement\\nastype()  - used to convert or cast an array from one data type to another.\\n          - If you have an array of strings representing numbers, you can convert it into numbers using astype()\\n          - calling astype() creates new array (copy of data), even if the new type dtype is same as old dtype\\n          \\n\\nARITHMETIC OPERATIONS\\n\\narr-arr\\narr+arr\\narr/arr\\narr ** 2\\narr1<arr2 - returns bool\\n\\nBASIC INDEXING AND SLICING\\n\\n-If you assign a scalar value to slice, it will be propagated (broadcasted) for entire selection.\\n-An Important difference between python lists and numpu arrays are views, array slices are views of original array. If you make any\\n    modifications to those views, It will be reflected on the source array.\\n-If you want to copy slice of array instead of view, explicitly use copy() method.\\n\\nBOOLEAN INDEXING\\n\\n-Two arrays are used one for labels and one for data,\\n-Each name corresponds to a row in data array.\\n-There will be duplicate names in name array,\\n-we can select rows in data array corresponding to names in names array.\\n\\n-(~) is used when you want to invert any condition.\\n-selecting data from an array by boolen indexing always creates a copy of data, even returned array is unchanged\\n-Python keywords and and or will not work in boolean indexing you need to use & and | instead.\\n\\nUNIVERSAL FUNCTIONS\\n\\n- universal functions are functions that operates on ndarrays in an element-by-element fashion, supporting array broadcasting, type-casting and several standard features.\\n- sqrt() - square root\\n- exp() - exponent\\n- Maximum(a1,a2)\\n- Modf()\\n\\nSTATISTICAL FUNCTIONS\\n\\n- amin, amax\\n- mean\\n- median\\n- std\\n- var\\n- average\\n\\nFILE I/O\\n\\n- np.save() - saves to disk\\n- np.load() - loads file from disk\\n- np.savez() - saves as archive\\n\\nLINEAR ALGEBRA FUNCTIONS\\n\\n- diag()\\n- trace()\\n- det()\\n- eig()\\n- svd()\\n- solve()\\n\\n\\n\\n\""
      ]
     },
     "execution_count": 1,
     "metadata": {},
     "output_type": "execute_result"
    }
   ],
   "source": [
    "\"\"\"\n",
    "NumPy - Numerical Python\n",
    "\n",
    "-NumPy arrays helps you to perform batch operations on data without using loops.\n",
    "-Numpy calls it Vectorization.\n",
    "-Vectorization is used to speedup code without using loops. \n",
    "-Various operations are performed on vectors like dot product, outer product, elementwise multiplication.\n",
    "-NumPy has a great collection of methods for Mathematical, Logical, Shape manipulation, sorting, selecting, I/O, Fourier Transformations, Basic Linear Algebra, Basic Statistical Operations and much more\n",
    "-Element-wise Multiplication -- Product of elements of same index.\n",
    "\n",
    "-Data structure in NumPy is N-Dimensional Array\n",
    "-it is fast and flexible container for large datasets \n",
    "-NumPy library of algorithms are wirtten in C. Thats why it takes less space and time\n",
    "\n",
    "-Three Different Clocks\n",
    "    1.Wall Clock Time - Standard time we measure in stopwatch\n",
    "    2.User Time - time spend by CPU running code. Does not include I/O operations, Kernel time \n",
    "    3.CPU Time - Total time including time spent on I/O operations, Kernel time\n",
    "\n",
    "DIFFERENCES BETWEEN LISTS AND ARRAYS\n",
    "    - Array slices are views of original array.\n",
    "    - Arrays are more useful for arithmetic operations.\n",
    "    - Arrays are used as container for single data type where list can hold multiple data types.\n",
    "    - NumPy arrays are 10-100 times faster than lists.\n",
    "\n",
    "SIMILARITIES BETWEEN LIST AND ARRAYS\n",
    "    - used for storing data\n",
    "    - Mutable\n",
    "    - Indexed and iterated through\n",
    "    - can be sliced\n",
    "\n",
    "DIFFERENCES BETWEN return and print\n",
    "    - Return statements are used to end the execution of a function and if return is not given, by default it returns None\n",
    "    - print prints\n",
    "\n",
    "np.array() - used to declare numpy array\n",
    "           - Nested sequences like lists or dicts of equal lengths will be converted into Multi-dimensional arrays\n",
    "           - Another method to create Multidimensional arrays are by np.reshape() method.\n",
    "np.random.randn()  - used to generate random numbers\n",
    "arr.shape\n",
    "arr.ndim\n",
    "arr.dtype\n",
    "arr.size\n",
    "empty()  - creates empty arrays. It is not technically empty. It initializes garbage values into it\n",
    "reshape()\n",
    "zeros()\n",
    "ones()\n",
    "eye()    - accepts tuples as parameters to create multidimensional arrays. \n",
    "arange() - NumPy's version of range() - exclusive of endpoint.\n",
    "dype    -  special object contains information about meta data.\n",
    "\n",
    "You can explicitly mention what kind of data type you need into array in array declaration statement\n",
    "astype()  - used to convert or cast an array from one data type to another.\n",
    "          - If you have an array of strings representing numbers, you can convert it into numbers using astype()\n",
    "          - calling astype() creates new array (copy of data), even if the new type dtype is same as old dtype\n",
    "          \n",
    "\n",
    "ARITHMETIC OPERATIONS\n",
    "\n",
    "arr-arr\n",
    "arr+arr\n",
    "arr/arr\n",
    "arr ** 2\n",
    "arr1<arr2 - returns bool\n",
    "\n",
    "BASIC INDEXING AND SLICING\n",
    "\n",
    "-If you assign a scalar value to slice, it will be propagated (broadcasted) for entire selection.\n",
    "-An Important difference between python lists and numpu arrays are views, array slices are views of original array. If you make any\n",
    "    modifications to those views, It will be reflected on the source array.\n",
    "-If you want to copy slice of array instead of view, explicitly use copy() method.\n",
    "\n",
    "BOOLEAN INDEXING\n",
    "\n",
    "-Two arrays are used one for labels and one for data,\n",
    "-Each name corresponds to a row in data array.\n",
    "-There will be duplicate names in name array,\n",
    "-we can select rows in data array corresponding to names in names array.\n",
    "\n",
    "-(~) is used when you want to invert any condition.\n",
    "-selecting data from an array by boolen indexing always creates a copy of data, even returned array is unchanged\n",
    "-Python keywords and and or will not work in boolean indexing you need to use & and | instead.\n",
    "\n",
    "UNIVERSAL FUNCTIONS\n",
    "\n",
    "- universal functions are functions that operates on ndarrays in an element-by-element fashion, supporting array broadcasting, type-casting and several standard features.\n",
    "- sqrt() - square root\n",
    "- exp() - exponent\n",
    "- Maximum(a1,a2)\n",
    "- Modf()\n",
    "\n",
    "STATISTICAL FUNCTIONS\n",
    "\n",
    "- amin, amax\n",
    "- mean\n",
    "- median\n",
    "- std\n",
    "- var\n",
    "- average\n",
    "\n",
    "FILE I/O\n",
    "\n",
    "- np.save() - saves to disk\n",
    "- np.load() - loads file from disk\n",
    "- np.savez() - saves as archive\n",
    "\n",
    "LINEAR ALGEBRA FUNCTIONS\n",
    "\n",
    "- diag()\n",
    "- trace()\n",
    "- det()\n",
    "- eig()\n",
    "- svd()\n",
    "- solve()\n",
    "\n",
    "\n",
    "\n",
    "\"\"\""
   ]
  },
  {
   "cell_type": "code",
   "execution_count": 2,
   "metadata": {},
   "outputs": [
    {
     "name": "stdout",
     "output_type": "stream",
     "text": [
      "Wall time: 18 ms\n",
      "Wall time: 780 ms\n"
     ]
    }
   ],
   "source": [
    "import numpy as np\n",
    "\n",
    "# declare numpy array and python list\n",
    "my_arr = np.arange(1000000)\n",
    "my_list = list(range(1000000))\n",
    "\n",
    "# multiply each sequence by 2\n",
    "%time for _ in range(10): my_arr2 = my_arr * 2\n",
    "\n",
    "%time for _ in range(10): my_list2 = [x*2 for x in my_list]\n",
    "    \n",
    "# ndarrays are 10-100 times faster than lists"
   ]
  },
  {
   "cell_type": "code",
   "execution_count": 3,
   "metadata": {},
   "outputs": [
    {
     "data": {
      "text/plain": [
       "array([[ 0.26662284,  0.78835675,  0.58942865],\n",
       "       [-2.03761939, -1.20867867, -0.16792841]])"
      ]
     },
     "execution_count": 3,
     "metadata": {},
     "output_type": "execute_result"
    }
   ],
   "source": [
    "data = np.random.randn(2,3)\n",
    "data"
   ]
  },
  {
   "cell_type": "code",
   "execution_count": 7,
   "metadata": {},
   "outputs": [
    {
     "data": {
      "text/plain": [
       "array([[ 44.556948  ,   3.24577582, 219.72543251],\n",
       "       [-24.20134871,  34.12280804, 107.58713639]])"
      ]
     },
     "execution_count": 7,
     "metadata": {},
     "output_type": "execute_result"
    }
   ],
   "source": [
    "data *100"
   ]
  },
  {
   "cell_type": "code",
   "execution_count": 8,
   "metadata": {},
   "outputs": [
    {
     "data": {
      "text/plain": [
       "array([[ 0.89113896,  0.06491552,  4.39450865],\n",
       "       [-0.48402697,  0.68245616,  2.15174273]])"
      ]
     },
     "execution_count": 8,
     "metadata": {},
     "output_type": "execute_result"
    }
   ],
   "source": [
    "data + data"
   ]
  },
  {
   "cell_type": "code",
   "execution_count": 9,
   "metadata": {},
   "outputs": [
    {
     "data": {
      "text/plain": [
       "(2, 3)"
      ]
     },
     "execution_count": 9,
     "metadata": {},
     "output_type": "execute_result"
    }
   ],
   "source": [
    "# all the elements in the array must be same type\n",
    "\n",
    "data.shape"
   ]
  },
  {
   "cell_type": "code",
   "execution_count": 10,
   "metadata": {},
   "outputs": [
    {
     "data": {
      "text/plain": [
       "dtype('float64')"
      ]
     },
     "execution_count": 10,
     "metadata": {},
     "output_type": "execute_result"
    }
   ],
   "source": [
    "data.dtype"
   ]
  },
  {
   "cell_type": "markdown",
   "metadata": {},
   "source": [
    "###### creating ndarrays"
   ]
  },
  {
   "cell_type": "code",
   "execution_count": 11,
   "metadata": {},
   "outputs": [
    {
     "name": "stdout",
     "output_type": "stream",
     "text": [
      "[5.6 5.  4.  3.  2.  1. ]\n",
      "(6,)\n"
     ]
    }
   ],
   "source": [
    "data = [5.6,5,4,3,2,1]\n",
    "arr1 = np.array(data)\n",
    "print(arr1)\n",
    "print(arr1.shape)"
   ]
  },
  {
   "cell_type": "code",
   "execution_count": 12,
   "metadata": {},
   "outputs": [
    {
     "data": {
      "text/plain": [
       "array([[1, 2, 3],\n",
       "       [4, 5, 6]])"
      ]
     },
     "execution_count": 12,
     "metadata": {},
     "output_type": "execute_result"
    }
   ],
   "source": [
    "# Nested sequences, like a list of 'equal-lengths', will be converted into a multidimensional array \n",
    "\n",
    "data2 = [[1,2,3 ], [4,5,6]]\n",
    "arr2 = np.array(data2)\n",
    "arr2"
   ]
  },
  {
   "cell_type": "code",
   "execution_count": 13,
   "metadata": {},
   "outputs": [
    {
     "name": "stdout",
     "output_type": "stream",
     "text": [
      "2\n",
      "(2, 3)\n",
      "int32\n"
     ]
    }
   ],
   "source": [
    "# since data2 was a list of lists, Numpy array arr2 has two dimensions with shape inferred from data\n",
    "\n",
    "print(arr2.ndim) # number of dimensions\n",
    "print(arr2.shape) # shape of the array\n",
    "print(arr2.dtype) # data type of the array"
   ]
  },
  {
   "cell_type": "code",
   "execution_count": 14,
   "metadata": {},
   "outputs": [
    {
     "name": "stdout",
     "output_type": "stream",
     "text": [
      "[0. 0. 0. 0. 0. 0. 0. 0. 0. 0.]\n",
      "[[0 0 0 0 0]\n",
      " [0 0 0 0 0]\n",
      " [0 0 0 0 0]\n",
      " [0 0 0 0 0]]\n",
      "[1. 1. 1. 1. 1. 1. 1. 1. 1. 1.]\n",
      "[[1. 1. 1. 1. 1.]\n",
      " [1. 1. 1. 1. 1.]\n",
      " [1. 1. 1. 1. 1.]\n",
      " [1. 1. 1. 1. 1.]]\n"
     ]
    }
   ],
   "source": [
    "# pass tuple as parameter\n",
    "\n",
    "print(np.zeros(10))\n",
    "print(np.zeros(shape=(4,5),dtype='int32'))\n",
    "\n",
    "print(np.ones(10))\n",
    "print(np.ones((4,5), 'float64'))\n"
   ]
  },
  {
   "cell_type": "code",
   "execution_count": 15,
   "metadata": {},
   "outputs": [
    {
     "data": {
      "text/plain": [
       "array([[5.6, 5. , 4. ],\n",
       "       [3. , 2. , 1. ]])"
      ]
     },
     "execution_count": 15,
     "metadata": {},
     "output_type": "execute_result"
    }
   ],
   "source": [
    "# it returns uninitialized \"garbage\" values\n",
    "\n",
    "np.empty((2,3))"
   ]
  },
  {
   "cell_type": "code",
   "execution_count": 16,
   "metadata": {},
   "outputs": [
    {
     "data": {
      "text/plain": [
       "array([0, 1, 2, 3, 4, 5, 6, 7, 8, 9])"
      ]
     },
     "execution_count": 16,
     "metadata": {},
     "output_type": "execute_result"
    }
   ],
   "source": [
    "# arange is numpy version of range\n",
    "\n",
    "np.arange(10)"
   ]
  },
  {
   "cell_type": "code",
   "execution_count": 17,
   "metadata": {},
   "outputs": [
    {
     "data": {
      "text/plain": [
       "array([[0., 1., 2., 3., 4.],\n",
       "       [0., 1., 2., 3., 4.]])"
      ]
     },
     "execution_count": 17,
     "metadata": {},
     "output_type": "execute_result"
    }
   ],
   "source": [
    "np.array((np.arange(5),np.arange(5)), dtype='float64')"
   ]
  },
  {
   "cell_type": "markdown",
   "metadata": {},
   "source": [
    "###### Data Types and casting with 'astype'"
   ]
  },
  {
   "cell_type": "code",
   "execution_count": 18,
   "metadata": {},
   "outputs": [
    {
     "data": {
      "text/plain": [
       "dtype('float64')"
      ]
     },
     "execution_count": 18,
     "metadata": {},
     "output_type": "execute_result"
    }
   ],
   "source": [
    "# data type or dtype is a special object containing the information of meta data\n",
    "\n",
    "arr1 = np.array([1,2,3], dtype=np.float64)\n",
    "arr1.dtype"
   ]
  },
  {
   "cell_type": "code",
   "execution_count": 19,
   "metadata": {},
   "outputs": [
    {
     "data": {
      "text/plain": [
       "dtype('int32')"
      ]
     },
     "execution_count": 19,
     "metadata": {},
     "output_type": "execute_result"
    }
   ],
   "source": [
    "arr2 = np.array([4,5,6], dtype=np.int32)\n",
    "arr2.dtype"
   ]
  },
  {
   "cell_type": "code",
   "execution_count": 20,
   "metadata": {},
   "outputs": [
    {
     "data": {
      "text/plain": [
       "dtype('int32')"
      ]
     },
     "execution_count": 20,
     "metadata": {},
     "output_type": "execute_result"
    }
   ],
   "source": [
    "# explicitly convert or cast an array from one data type to another using astype method.\n",
    "\n",
    "arr = np.array([1,2,3,4])\n",
    "arr.dtype"
   ]
  },
  {
   "cell_type": "code",
   "execution_count": 21,
   "metadata": {},
   "outputs": [
    {
     "data": {
      "text/plain": [
       "dtype('float64')"
      ]
     },
     "execution_count": 21,
     "metadata": {},
     "output_type": "execute_result"
    }
   ],
   "source": [
    "arr_float = arr.astype(np.float64)\n",
    "arr_float.dtype"
   ]
  },
  {
   "cell_type": "code",
   "execution_count": 22,
   "metadata": {},
   "outputs": [
    {
     "data": {
      "text/plain": [
       "dtype('S3')"
      ]
     },
     "execution_count": 22,
     "metadata": {},
     "output_type": "execute_result"
    }
   ],
   "source": [
    "# if you have an array of strings representing numbers, you can convert them using astype\n",
    "\n",
    "arr = np.array(['1', '2', '3.5', '4'], dtype=np.string_)\n",
    "arr.dtype"
   ]
  },
  {
   "cell_type": "code",
   "execution_count": 23,
   "metadata": {},
   "outputs": [
    {
     "data": {
      "text/plain": [
       "array([1. , 2. , 3.5, 4. ])"
      ]
     },
     "execution_count": 23,
     "metadata": {},
     "output_type": "execute_result"
    }
   ],
   "source": [
    "arr.astype(float)\n",
    "\n",
    "# calling the astype always creates a new array (a copy of the data), even if the new  dtype is the same as old dtype"
   ]
  },
  {
   "cell_type": "markdown",
   "metadata": {},
   "source": [
    "###### Arithmetic with NumPy Arrays"
   ]
  },
  {
   "cell_type": "code",
   "execution_count": 24,
   "metadata": {},
   "outputs": [
    {
     "name": "stdout",
     "output_type": "stream",
     "text": [
      "[[1. 2. 3.]\n",
      " [4. 5. 6.]]\n"
     ]
    },
    {
     "data": {
      "text/plain": [
       "array([[ 1.,  4.,  9.],\n",
       "       [16., 25., 36.]])"
      ]
     },
     "execution_count": 24,
     "metadata": {},
     "output_type": "execute_result"
    }
   ],
   "source": [
    "# numpy arrays enable you to express batch operations on data without writing any loops.\n",
    "# numpy users call it vectorization. \n",
    "# Any arithmetic operations between equal-size arrays applies the operation elementwise\n",
    "\n",
    "arr = np.array([[1.,2.,3.], [4.,5.,6.]])\n",
    "print(arr)\n",
    "\n",
    "arr*arr"
   ]
  },
  {
   "cell_type": "code",
   "execution_count": 25,
   "metadata": {},
   "outputs": [
    {
     "data": {
      "text/plain": [
       "array([[0., 0., 0.],\n",
       "       [0., 0., 0.]])"
      ]
     },
     "execution_count": 25,
     "metadata": {},
     "output_type": "execute_result"
    }
   ],
   "source": [
    "arr-arr"
   ]
  },
  {
   "cell_type": "code",
   "execution_count": 26,
   "metadata": {},
   "outputs": [
    {
     "data": {
      "text/plain": [
       "array([[1.        , 0.5       , 0.33333333],\n",
       "       [0.25      , 0.2       , 0.16666667]])"
      ]
     },
     "execution_count": 26,
     "metadata": {},
     "output_type": "execute_result"
    }
   ],
   "source": [
    "1/arr"
   ]
  },
  {
   "cell_type": "code",
   "execution_count": 27,
   "metadata": {},
   "outputs": [
    {
     "data": {
      "text/plain": [
       "array([[ 6.,  7.,  8.],\n",
       "       [ 9., 10., 11.]])"
      ]
     },
     "execution_count": 27,
     "metadata": {},
     "output_type": "execute_result"
    }
   ],
   "source": [
    "arr+5"
   ]
  },
  {
   "cell_type": "code",
   "execution_count": 28,
   "metadata": {},
   "outputs": [
    {
     "data": {
      "text/plain": [
       "array([[ 1.,  4.,  9.],\n",
       "       [16., 25., 36.]])"
      ]
     },
     "execution_count": 28,
     "metadata": {},
     "output_type": "execute_result"
    }
   ],
   "source": [
    "arr**2"
   ]
  },
  {
   "cell_type": "code",
   "execution_count": 29,
   "metadata": {},
   "outputs": [
    {
     "data": {
      "text/plain": [
       "array([[False, False,  True],\n",
       "       [ True, False, False]])"
      ]
     },
     "execution_count": 29,
     "metadata": {},
     "output_type": "execute_result"
    }
   ],
   "source": [
    "arr2 = np.array([[5,4,0],[0,2,7]])\n",
    "arr2<arr1"
   ]
  },
  {
   "cell_type": "markdown",
   "metadata": {},
   "source": [
    "###### Basic Indexing and Slicing"
   ]
  },
  {
   "cell_type": "code",
   "execution_count": 30,
   "metadata": {},
   "outputs": [
    {
     "data": {
      "text/plain": [
       "array([0, 1, 2, 3, 4, 5, 6, 7, 8, 9])"
      ]
     },
     "execution_count": 30,
     "metadata": {},
     "output_type": "execute_result"
    }
   ],
   "source": [
    "arr = np.arange(10)\n",
    "arr"
   ]
  },
  {
   "cell_type": "code",
   "execution_count": 31,
   "metadata": {},
   "outputs": [
    {
     "data": {
      "text/plain": [
       "5"
      ]
     },
     "execution_count": 31,
     "metadata": {},
     "output_type": "execute_result"
    }
   ],
   "source": [
    "arr[5]"
   ]
  },
  {
   "cell_type": "code",
   "execution_count": 32,
   "metadata": {},
   "outputs": [
    {
     "data": {
      "text/plain": [
       "array([3, 4])"
      ]
     },
     "execution_count": 32,
     "metadata": {},
     "output_type": "execute_result"
    }
   ],
   "source": [
    "arr[3:5]"
   ]
  },
  {
   "cell_type": "code",
   "execution_count": 33,
   "metadata": {},
   "outputs": [
    {
     "data": {
      "text/plain": [
       "array([9, 8, 7, 6, 5, 4, 3, 2, 1, 0])"
      ]
     },
     "execution_count": 33,
     "metadata": {},
     "output_type": "execute_result"
    }
   ],
   "source": [
    "arr[::-1]"
   ]
  },
  {
   "cell_type": "code",
   "execution_count": 35,
   "metadata": {},
   "outputs": [
    {
     "data": {
      "text/plain": [
       "array([ 0,  1,  2,  3,  4, 12, 12, 12,  8,  9])"
      ]
     },
     "execution_count": 35,
     "metadata": {},
     "output_type": "execute_result"
    }
   ],
   "source": [
    "# if you assign a scalar value to a slice, the value is propagated (or broadcasted) to entire selection.\n",
    "\n",
    "arr[5:8] = 12\n",
    "arr"
   ]
  },
  {
   "cell_type": "code",
   "execution_count": 36,
   "metadata": {},
   "outputs": [
    {
     "data": {
      "text/plain": [
       "array([12, 12, 12])"
      ]
     },
     "execution_count": 36,
     "metadata": {},
     "output_type": "execute_result"
    }
   ],
   "source": [
    "# An important difference between python list and arrays are views.\n",
    "# array slices are views of the the original array.\n",
    "# that means data is not copied, and any modifications on the views will be reflected on the source array.\n",
    "\n",
    "arr_slice = arr[5:8]\n",
    "arr_slice"
   ]
  },
  {
   "cell_type": "code",
   "execution_count": 37,
   "metadata": {},
   "outputs": [
    {
     "data": {
      "text/plain": [
       "array([       12,        12, 123456789])"
      ]
     },
     "execution_count": 37,
     "metadata": {},
     "output_type": "execute_result"
    }
   ],
   "source": [
    "arr_slice[2] = 123456789\n",
    "arr_slice"
   ]
  },
  {
   "cell_type": "code",
   "execution_count": 38,
   "metadata": {},
   "outputs": [
    {
     "data": {
      "text/plain": [
       "array([        0,         1,         2,         3,         4,        12,\n",
       "              12, 123456789,         8,         9])"
      ]
     },
     "execution_count": 38,
     "metadata": {},
     "output_type": "execute_result"
    }
   ],
   "source": [
    "# as you can see modifications took place in the original array.\n",
    "\n",
    "arr"
   ]
  },
  {
   "cell_type": "code",
   "execution_count": 45,
   "metadata": {},
   "outputs": [
    {
     "data": {
      "text/plain": [
       "array([[ 1,  2,  3],\n",
       "       [ 4,  5,  6],\n",
       "       [ 7,  8,  9],\n",
       "       [10, 11, 12]])"
      ]
     },
     "execution_count": 45,
     "metadata": {},
     "output_type": "execute_result"
    }
   ],
   "source": [
    "# if you want to copy a slice of an ndarray instead of view, \n",
    "# you have to explicitly cop the array arr[3:5].copy()\n",
    "\n",
    "# In higher dimensional arrays, the elements at each index are no longer scalars but rather one dimensional arrays\n",
    "\n",
    "arr2d = np.array([[1,2,3,], [4,5,6], [7,8,9], [10,11,12]])\n",
    "arr2d"
   ]
  },
  {
   "cell_type": "code",
   "execution_count": 159,
   "metadata": {},
   "outputs": [
    {
     "data": {
      "text/plain": [
       "2"
      ]
     },
     "execution_count": 159,
     "metadata": {},
     "output_type": "execute_result"
    }
   ],
   "source": [
    "arr2d.ndim"
   ]
  },
  {
   "cell_type": "code",
   "execution_count": 160,
   "metadata": {},
   "outputs": [
    {
     "data": {
      "text/plain": [
       "(4, 3)"
      ]
     },
     "execution_count": 160,
     "metadata": {},
     "output_type": "execute_result"
    }
   ],
   "source": [
    "# 4  rows 3 columns\n",
    "\n",
    "arr2d.shape"
   ]
  },
  {
   "cell_type": "code",
   "execution_count": 46,
   "metadata": {},
   "outputs": [
    {
     "data": {
      "text/plain": [
       "array([4, 5, 6])"
      ]
     },
     "execution_count": 46,
     "metadata": {},
     "output_type": "execute_result"
    }
   ],
   "source": [
    "# when you index you will get whole row\n",
    "\n",
    "arr2d[1]"
   ]
  },
  {
   "cell_type": "code",
   "execution_count": 195,
   "metadata": {},
   "outputs": [
    {
     "data": {
      "text/plain": [
       "6"
      ]
     },
     "execution_count": 195,
     "metadata": {},
     "output_type": "execute_result"
    }
   ],
   "source": [
    "# to get the individual elements \n",
    "# index starts from 0\n",
    "\n",
    "arr2d[1][2]"
   ]
  },
  {
   "cell_type": "code",
   "execution_count": 48,
   "metadata": {},
   "outputs": [
    {
     "data": {
      "text/plain": [
       "2"
      ]
     },
     "execution_count": 48,
     "metadata": {},
     "output_type": "execute_result"
    }
   ],
   "source": [
    "arr2d[0, 1]"
   ]
  },
  {
   "cell_type": "code",
   "execution_count": 152,
   "metadata": {},
   "outputs": [
    {
     "data": {
      "text/plain": [
       "array([1, 2, 3, 4, 5, 6, 7, 8, 9])"
      ]
     },
     "execution_count": 152,
     "metadata": {},
     "output_type": "execute_result"
    }
   ],
   "source": [
    "# 1d array\n",
    "\n",
    "one_d = np.array([1,2,3,4,5,6,7,8,9])\n",
    "one_d"
   ]
  },
  {
   "cell_type": "code",
   "execution_count": 153,
   "metadata": {},
   "outputs": [
    {
     "data": {
      "text/plain": [
       "1"
      ]
     },
     "execution_count": 153,
     "metadata": {},
     "output_type": "execute_result"
    }
   ],
   "source": [
    "one_d.ndim"
   ]
  },
  {
   "cell_type": "code",
   "execution_count": 157,
   "metadata": {},
   "outputs": [
    {
     "name": "stdout",
     "output_type": "stream",
     "text": [
      "[5 7 9]\n",
      "[ 6 15]\n"
     ]
    }
   ],
   "source": [
    "# axis in numpy\n",
    "\n",
    "v = np.array([[1,2,3],[4,5,6]])\n",
    "print(np.sum(v, axis=0)) # vertical\n",
    "print(np.sum(v, axis=1)) # horizontal"
   ]
  },
  {
   "cell_type": "code",
   "execution_count": 93,
   "metadata": {},
   "outputs": [
    {
     "data": {
      "text/plain": [
       "array([[1, 2, 3],\n",
       "       [4, 5, 6]])"
      ]
     },
     "execution_count": 93,
     "metadata": {},
     "output_type": "execute_result"
    }
   ],
   "source": [
    "#Both scalar values and arrays can be assigned to arr3d[0]\n",
    "\n",
    "old = arr3d[0].copy()\n",
    "old"
   ]
  },
  {
   "cell_type": "code",
   "execution_count": 94,
   "metadata": {},
   "outputs": [
    {
     "data": {
      "text/plain": [
       "array([[[42, 42, 42],\n",
       "        [42, 42, 42]],\n",
       "\n",
       "       [[ 7,  8,  9],\n",
       "        [10, 11, 12]]])"
      ]
     },
     "execution_count": 94,
     "metadata": {},
     "output_type": "execute_result"
    }
   ],
   "source": [
    "# assigning scalar values\n",
    "\n",
    "arr3d[0] = 42\n",
    "arr3d"
   ]
  },
  {
   "cell_type": "code",
   "execution_count": 95,
   "metadata": {},
   "outputs": [
    {
     "data": {
      "text/plain": [
       "array([[[ 1,  2,  3],\n",
       "        [ 4,  5,  6]],\n",
       "\n",
       "       [[ 7,  8,  9],\n",
       "        [10, 11, 12]]])"
      ]
     },
     "execution_count": 95,
     "metadata": {},
     "output_type": "execute_result"
    }
   ],
   "source": [
    "# assignning an array to arr3d[0]\n",
    "\n",
    "arr3d[0] = old\n",
    "arr3d"
   ]
  },
  {
   "cell_type": "code",
   "execution_count": 96,
   "metadata": {},
   "outputs": [
    {
     "data": {
      "text/plain": [
       "array([[[ 1,  2,  3],\n",
       "        [ 4,  5,  6]],\n",
       "\n",
       "       [[ 7,  8,  9],\n",
       "        [10, 11, 12]]])"
      ]
     },
     "execution_count": 96,
     "metadata": {},
     "output_type": "execute_result"
    }
   ],
   "source": [
    "arr3d"
   ]
  },
  {
   "cell_type": "code",
   "execution_count": 101,
   "metadata": {},
   "outputs": [
    {
     "data": {
      "text/plain": [
       "array([7, 8, 9])"
      ]
     },
     "execution_count": 101,
     "metadata": {},
     "output_type": "execute_result"
    }
   ],
   "source": [
    "# accessing 2nd row and 1st element\n",
    "\n",
    "arr3d[1,0]"
   ]
  },
  {
   "cell_type": "code",
   "execution_count": 103,
   "metadata": {},
   "outputs": [
    {
     "data": {
      "text/plain": [
       "array([[ 7,  8,  9],\n",
       "       [10, 11, 12]])"
      ]
     },
     "execution_count": 103,
     "metadata": {},
     "output_type": "execute_result"
    }
   ],
   "source": [
    "x = arr3d[1]\n",
    "x"
   ]
  },
  {
   "cell_type": "code",
   "execution_count": 196,
   "metadata": {},
   "outputs": [
    {
     "data": {
      "text/plain": [
       "(90,)"
      ]
     },
     "execution_count": 196,
     "metadata": {},
     "output_type": "execute_result"
    }
   ],
   "source": [
    "# here x is 1d array with two elements \n",
    "# 0 is [7,8,9]\n",
    "# 1 is [10,11,12]\n",
    "\n",
    "x[0]"
   ]
  },
  {
   "cell_type": "markdown",
   "metadata": {},
   "source": [
    "##### Arrays and Dimensions"
   ]
  },
  {
   "cell_type": "code",
   "execution_count": 202,
   "metadata": {},
   "outputs": [
    {
     "name": "stdout",
     "output_type": "stream",
     "text": [
      "Dimensions:  1\n",
      "size/No. of elements:  6\n",
      "shape:  (6,)\n"
     ]
    },
    {
     "data": {
      "text/plain": [
       "array([1, 2, 3, 4, 5, 6])"
      ]
     },
     "execution_count": 202,
     "metadata": {},
     "output_type": "execute_result"
    }
   ],
   "source": [
    "# 1 dimensional array\n",
    "\n",
    "one = np.array([1,2,3,4,5,6])\n",
    "print('Dimensions: ',one.ndim)\n",
    "print('size/No. of elements: ',one.size)\n",
    "print('shape: ',one.shape)\n",
    "one"
   ]
  },
  {
   "cell_type": "code",
   "execution_count": 205,
   "metadata": {},
   "outputs": [
    {
     "name": "stdout",
     "output_type": "stream",
     "text": [
      "Dimensions 2\n",
      "size  6\n",
      "shape (2, 3)\n"
     ]
    }
   ],
   "source": [
    "# 2 dimensional array, Just reshaping it to 2 rows and 3 columns\n",
    "\n",
    "two = one.reshape(2,3)\n",
    "print('Dimensions', two.ndim)\n",
    "print('size ',two.size)\n",
    "print('shape', two.shape)"
   ]
  },
  {
   "cell_type": "code",
   "execution_count": 208,
   "metadata": {},
   "outputs": [
    {
     "name": "stdout",
     "output_type": "stream",
     "text": [
      "[[1 2 3]\n",
      " [4 5 6]]\n",
      "[4 5 6]\n",
      "6\n"
     ]
    }
   ],
   "source": [
    "# initailizing 3 dimensional array\n",
    "# First method\n",
    "\n",
    "three = np.array([\n",
    "                 [ [1,2,3], [4,5,6] ], # first 2d array\n",
    "                 [ [7,8,9], [10,11,12] ], # second 2d array\n",
    "                 [ [13,14,15], [17,18,19] ] # third 2d array\n",
    "    \n",
    "    \n",
    "])\n",
    "\n",
    "print(three[0])\n",
    "print(three[0][1])\n",
    "print(three[0][1][2]) # [first 2d array][2nd row in 1st 2d array][3rd element]"
   ]
  },
  {
   "cell_type": "code",
   "execution_count": 209,
   "metadata": {},
   "outputs": [
    {
     "name": "stdout",
     "output_type": "stream",
     "text": [
      "3\n",
      "(3, 2, 3)\n",
      "18\n"
     ]
    }
   ],
   "source": [
    "print(three.ndim)\n",
    "print(three.shape)\n",
    "print(three.size)"
   ]
  },
  {
   "cell_type": "code",
   "execution_count": 210,
   "metadata": {},
   "outputs": [
    {
     "data": {
      "text/plain": [
       "array([[[1, 2]],\n",
       "\n",
       "       [[3, 4]],\n",
       "\n",
       "       [[5, 6]]])"
      ]
     },
     "execution_count": 210,
     "metadata": {},
     "output_type": "execute_result"
    }
   ],
   "source": [
    "# 2nd method to create three dimensional array\n",
    "\n",
    "three_2 = one.reshape(3,1,2)\n",
    "three_2"
   ]
  },
  {
   "cell_type": "code",
   "execution_count": 227,
   "metadata": {},
   "outputs": [
    {
     "name": "stdout",
     "output_type": "stream",
     "text": [
      "[[1 2]]\n",
      "[1 2]\n",
      "1\n"
     ]
    },
    {
     "data": {
      "text/plain": [
       "2"
      ]
     },
     "execution_count": 227,
     "metadata": {},
     "output_type": "execute_result"
    }
   ],
   "source": [
    "print(three_2[0]) # accessing whole row\n",
    "print(three_2[0][0]) # accessing 0th element in row, it has two values 1 and 2\n",
    "print(three_2[0][0][0]) #further down\n",
    "three_2[0].ndim # 2dimensions because it has 1 row 2 columns"
   ]
  },
  {
   "cell_type": "code",
   "execution_count": 228,
   "metadata": {},
   "outputs": [
    {
     "name": "stdout",
     "output_type": "stream",
     "text": [
      "1\n",
      "2\n",
      "3\n",
      "4\n",
      "5\n",
      "6\n"
     ]
    }
   ],
   "source": [
    "# to print the all the elements of 1d array we need 1 for loop\n",
    "# similarly to print elements of 2d array we need 2 for loops\n",
    "# for 3d - 3 for loops\n",
    "\n",
    "for x in one:\n",
    "    print(x)"
   ]
  },
  {
   "cell_type": "code",
   "execution_count": 229,
   "metadata": {},
   "outputs": [
    {
     "name": "stdout",
     "output_type": "stream",
     "text": [
      "[1 2 3]\n",
      "[4 5 6]\n"
     ]
    }
   ],
   "source": [
    "# one for loop doesnt work for 2d\n",
    "\n",
    "for x in two:\n",
    "    print(x)"
   ]
  },
  {
   "cell_type": "code",
   "execution_count": 230,
   "metadata": {},
   "outputs": [
    {
     "name": "stdout",
     "output_type": "stream",
     "text": [
      "1\n",
      "2\n",
      "3\n",
      "4\n",
      "5\n",
      "6\n"
     ]
    }
   ],
   "source": [
    "# 2 for loops for 2d\n",
    "\n",
    "for x in two:\n",
    "    for y in x:\n",
    "        print(y)"
   ]
  },
  {
   "cell_type": "code",
   "execution_count": 231,
   "metadata": {},
   "outputs": [
    {
     "name": "stdout",
     "output_type": "stream",
     "text": [
      "1\n",
      "2\n",
      "3\n",
      "4\n",
      "5\n",
      "6\n",
      "7\n",
      "8\n",
      "9\n",
      "10\n",
      "11\n",
      "12\n",
      "13\n",
      "14\n",
      "15\n",
      "17\n",
      "18\n",
      "19\n"
     ]
    }
   ],
   "source": [
    "# 3 for loops for three dimensions\n",
    "\n",
    "for x in three:\n",
    "    for y in x:\n",
    "        for z in y:\n",
    "            print(z)"
   ]
  },
  {
   "cell_type": "markdown",
   "metadata": {},
   "source": [
    "###### Indexing with Slices"
   ]
  },
  {
   "cell_type": "code",
   "execution_count": 107,
   "metadata": {},
   "outputs": [
    {
     "data": {
      "text/plain": [
       "array([        0,         1,         2,         3,         4,        12,\n",
       "              12, 123456789,         8,         9])"
      ]
     },
     "execution_count": 107,
     "metadata": {},
     "output_type": "execute_result"
    }
   ],
   "source": [
    "arr"
   ]
  },
  {
   "cell_type": "code",
   "execution_count": 108,
   "metadata": {},
   "outputs": [
    {
     "data": {
      "text/plain": [
       "array([ 1,  2,  3,  4, 12])"
      ]
     },
     "execution_count": 108,
     "metadata": {},
     "output_type": "execute_result"
    }
   ],
   "source": [
    "# this is indexing with 1 dimensional array\n",
    "\n",
    "arr[1:6]"
   ]
  },
  {
   "cell_type": "code",
   "execution_count": 245,
   "metadata": {},
   "outputs": [
    {
     "data": {
      "text/plain": [
       "array([[ 1,  2,  3],\n",
       "       [ 4,  5,  6],\n",
       "       [ 7,  8,  9],\n",
       "       [10, 11, 12]])"
      ]
     },
     "execution_count": 245,
     "metadata": {},
     "output_type": "execute_result"
    }
   ],
   "source": [
    "arr2d"
   ]
  },
  {
   "cell_type": "code",
   "execution_count": 262,
   "metadata": {},
   "outputs": [
    {
     "data": {
      "text/plain": [
       "array([[1, 2],\n",
       "       [4, 5],\n",
       "       [7, 8]])"
      ]
     },
     "execution_count": 262,
     "metadata": {},
     "output_type": "execute_result"
    }
   ],
   "source": [
    "arr2d[:3,:2]"
   ]
  },
  {
   "attachments": {
    "image.png": {
     "image/png": "[encoded data removed]"
    }
   },
   "cell_type": "markdown",
   "metadata": {},
   "source": [
    "# ![image.png](attachment:image.png)"
   ]
  },
  {
   "cell_type": "markdown",
   "metadata": {},
   "source": [
    "###### Boolean Indexing"
   ]
  },
  {
   "cell_type": "code",
   "execution_count": 320,
   "metadata": {},
   "outputs": [
    {
     "data": {
      "text/plain": [
       "array([[ 1.5082835 ,  0.21241203,  0.05823504, -0.51920785],\n",
       "       [-0.8694722 , -1.42398624,  0.77898048,  0.95783725],\n",
       "       [-0.74907816,  1.16041117,  1.77521925, -0.13366464],\n",
       "       [-0.85181204, -0.57596752,  0.56078407,  1.9932987 ],\n",
       "       [-0.18532397, -0.76531663,  2.39791035, -0.77111212],\n",
       "       [ 1.96937994, -0.11871481,  0.5365912 ,  0.94399456],\n",
       "       [-0.2371649 ,  0.85916976,  0.25387733,  1.85006957]])"
      ]
     },
     "execution_count": 320,
     "metadata": {},
     "output_type": "execute_result"
    }
   ],
   "source": [
    "# two arrays one for labels and one for data\n",
    "# each name corresponds to row in the data array\n",
    "# we can select the rows corresponding to the label\n",
    "\n",
    "names = np.array(['bob', 'math', 'kiran', 'bob', 'sasi','vani', 'mint'])\n",
    "data = np.random.randn(7,4)\n",
    "data"
   ]
  },
  {
   "cell_type": "code",
   "execution_count": 321,
   "metadata": {},
   "outputs": [
    {
     "data": {
      "text/plain": [
       "array([ True, False, False,  True, False, False, False])"
      ]
     },
     "execution_count": 321,
     "metadata": {},
     "output_type": "execute_result"
    }
   ],
   "source": [
    "# comparing names with the string bob yields boolean array\n",
    "\n",
    "names == 'bob'"
   ]
  },
  {
   "cell_type": "code",
   "execution_count": 322,
   "metadata": {},
   "outputs": [
    {
     "data": {
      "text/plain": [
       "array([[ 1.5082835 ,  0.21241203,  0.05823504, -0.51920785],\n",
       "       [-0.85181204, -0.57596752,  0.56078407,  1.9932987 ]])"
      ]
     },
     "execution_count": 322,
     "metadata": {},
     "output_type": "execute_result"
    }
   ],
   "source": [
    "data[names =='bob']"
   ]
  },
  {
   "cell_type": "code",
   "execution_count": 323,
   "metadata": {},
   "outputs": [
    {
     "data": {
      "text/plain": [
       "array([[ 0.05823504, -0.51920785],\n",
       "       [ 0.56078407,  1.9932987 ]])"
      ]
     },
     "execution_count": 323,
     "metadata": {},
     "output_type": "execute_result"
    }
   ],
   "source": [
    "data[ names == 'bob', 2:]"
   ]
  },
  {
   "cell_type": "code",
   "execution_count": 324,
   "metadata": {},
   "outputs": [
    {
     "data": {
      "text/plain": [
       "array([[-0.8694722 , -1.42398624,  0.77898048,  0.95783725],\n",
       "       [-0.74907816,  1.16041117,  1.77521925, -0.13366464],\n",
       "       [-0.18532397, -0.76531663,  2.39791035, -0.77111212],\n",
       "       [ 1.96937994, -0.11871481,  0.5365912 ,  0.94399456],\n",
       "       [-0.2371649 ,  0.85916976,  0.25387733,  1.85006957]])"
      ]
     },
     "execution_count": 324,
     "metadata": {},
     "output_type": "execute_result"
    }
   ],
   "source": [
    "# select everything but not bob use != or ~\n",
    "\n",
    "data[names != 'bob'] \n"
   ]
  },
  {
   "cell_type": "code",
   "execution_count": 325,
   "metadata": {},
   "outputs": [
    {
     "data": {
      "text/plain": [
       "array([[-0.8694722 , -1.42398624,  0.77898048,  0.95783725],\n",
       "       [-0.74907816,  1.16041117,  1.77521925, -0.13366464],\n",
       "       [-0.18532397, -0.76531663,  2.39791035, -0.77111212],\n",
       "       [ 1.96937994, -0.11871481,  0.5365912 ,  0.94399456],\n",
       "       [-0.2371649 ,  0.85916976,  0.25387733,  1.85006957]])"
      ]
     },
     "execution_count": 325,
     "metadata": {},
     "output_type": "execute_result"
    }
   ],
   "source": [
    "# ~ is used when you want to invert the condition\n",
    "\n",
    "condition = names == 'bob'\n",
    "data[~condition]"
   ]
  },
  {
   "cell_type": "code",
   "execution_count": 326,
   "metadata": {},
   "outputs": [],
   "source": [
    "# selecting the data from an array by boolean indexing always creates a copy of the data.\n",
    "# even returned array is unchanged\n",
    "\n",
    "# python keywords and and or do not work with boolean arrays use & and | instead\n"
   ]
  },
  {
   "cell_type": "code",
   "execution_count": 327,
   "metadata": {},
   "outputs": [
    {
     "data": {
      "text/plain": [
       "array([[1.5082835 , 0.21241203, 0.05823504, 0.        ],\n",
       "       [0.        , 0.        , 0.77898048, 0.95783725],\n",
       "       [0.        , 1.16041117, 1.77521925, 0.        ],\n",
       "       [0.        , 0.        , 0.56078407, 1.9932987 ],\n",
       "       [0.        , 0.        , 2.39791035, 0.        ],\n",
       "       [1.96937994, 0.        , 0.5365912 , 0.94399456],\n",
       "       [0.        , 0.85916976, 0.25387733, 1.85006957]])"
      ]
     },
     "execution_count": 327,
     "metadata": {},
     "output_type": "execute_result"
    }
   ],
   "source": [
    "# setting negative values with zero\n",
    "\n",
    "data[data<0] = 0\n",
    "data"
   ]
  },
  {
   "cell_type": "code",
   "execution_count": 330,
   "metadata": {},
   "outputs": [
    {
     "data": {
      "text/plain": [
       "array([[10.        , 10.        , 10.        , 10.        ],\n",
       "       [ 0.        ,  0.        ,  0.77898048,  0.95783725],\n",
       "       [ 0.        ,  1.16041117,  1.77521925,  0.        ],\n",
       "       [10.        , 10.        , 10.        , 10.        ],\n",
       "       [ 0.        ,  0.        ,  2.39791035,  0.        ],\n",
       "       [ 1.96937994,  0.        ,  0.5365912 ,  0.94399456],\n",
       "       [ 0.        ,  0.85916976,  0.25387733,  1.85006957]])"
      ]
     },
     "execution_count": 330,
     "metadata": {},
     "output_type": "execute_result"
    }
   ],
   "source": [
    "data[names == 'bob'] = 10\n",
    "data"
   ]
  },
  {
   "cell_type": "markdown",
   "metadata": {},
   "source": [
    "###### Fancy indexing"
   ]
  },
  {
   "cell_type": "code",
   "execution_count": 334,
   "metadata": {},
   "outputs": [
    {
     "data": {
      "text/plain": [
       "array([[0., 0., 0., 0.],\n",
       "       [1., 1., 1., 1.],\n",
       "       [2., 2., 2., 2.],\n",
       "       [3., 3., 3., 3.],\n",
       "       [4., 4., 4., 4.],\n",
       "       [5., 5., 5., 5.],\n",
       "       [6., 6., 6., 6.],\n",
       "       [7., 7., 7., 7.]])"
      ]
     },
     "execution_count": 334,
     "metadata": {},
     "output_type": "execute_result"
    }
   ],
   "source": [
    "# fancy indexing is indexing using integer arrays.\n",
    "\n",
    "arr = np.empty((8,4))\n",
    "\n",
    "for i in range(8):\n",
    "    arr[i] = i\n",
    "\n",
    "arr"
   ]
  },
  {
   "cell_type": "code",
   "execution_count": 340,
   "metadata": {},
   "outputs": [
    {
     "name": "stdout",
     "output_type": "stream",
     "text": [
      "[2. 2. 2. 2.]\n",
      "[[2. 2. 2. 2.]\n",
      " [4. 4. 4. 4.]]\n"
     ]
    },
    {
     "data": {
      "text/plain": [
       "array([[1., 1., 1., 1.],\n",
       "       [5., 5., 5., 5.],\n",
       "       [7., 7., 7., 7.],\n",
       "       [2., 2., 2., 2.]])"
      ]
     },
     "execution_count": 340,
     "metadata": {},
     "output_type": "execute_result"
    }
   ],
   "source": [
    "# to select a subset of rows in a particular order, you can pass a list or ndarry or integers specifying the desired order\n",
    "\n",
    "print(arr[2])\n",
    "print(arr[[2,4]]) # passsing a list of desired index values\n",
    "arr[[1,5,7,2]]"
   ]
  },
  {
   "cell_type": "code",
   "execution_count": 341,
   "metadata": {},
   "outputs": [
    {
     "data": {
      "text/plain": [
       "array([[5., 5., 5., 5.],\n",
       "       [6., 6., 6., 6.],\n",
       "       [1., 1., 1., 1.]])"
      ]
     },
     "execution_count": 341,
     "metadata": {},
     "output_type": "execute_result"
    }
   ],
   "source": [
    "arr[[-3,-2,-7]] # index starts from backward when you specify minus"
   ]
  },
  {
   "cell_type": "code",
   "execution_count": 342,
   "metadata": {},
   "outputs": [
    {
     "data": {
      "text/plain": [
       "array([[ 0,  1,  2,  3],\n",
       "       [ 4,  5,  6,  7],\n",
       "       [ 8,  9, 10, 11],\n",
       "       [12, 13, 14, 15],\n",
       "       [16, 17, 18, 19],\n",
       "       [20, 21, 22, 23],\n",
       "       [24, 25, 26, 27],\n",
       "       [28, 29, 30, 31]])"
      ]
     },
     "execution_count": 342,
     "metadata": {},
     "output_type": "execute_result"
    }
   ],
   "source": [
    "arr = np.arange(32).reshape((8,4))\n",
    "arr"
   ]
  },
  {
   "cell_type": "code",
   "execution_count": 344,
   "metadata": {},
   "outputs": [
    {
     "data": {
      "text/plain": [
       "array([ 4, 23, 29, 10])"
      ]
     },
     "execution_count": 344,
     "metadata": {},
     "output_type": "execute_result"
    }
   ],
   "source": [
    "# here we passed elements (1,0),(5,3),(7,1)(2,2)\n",
    "# (5,3) mean 5th row and 3rd col\n",
    "# regardless of how many dimensions the arrays has, the result of fancy indexing always one-dimensional\n",
    "\n",
    "\n",
    "arr[[1,5,7,2],[0,3,1,2]]"
   ]
  },
  {
   "cell_type": "code",
   "execution_count": 348,
   "metadata": {},
   "outputs": [
    {
     "data": {
      "text/plain": [
       "array([[ 4,  5,  6,  7],\n",
       "       [20, 21, 22, 23],\n",
       "       [28, 29, 30, 31],\n",
       "       [ 8,  9, 10, 11]])"
      ]
     },
     "execution_count": 348,
     "metadata": {},
     "output_type": "execute_result"
    }
   ],
   "source": [
    "# Step -I\n",
    "arr[[1,5,7,2]]"
   ]
  },
  {
   "cell_type": "code",
   "execution_count": 352,
   "metadata": {},
   "outputs": [
    {
     "data": {
      "text/plain": [
       "array([4, 5, 6, 7])"
      ]
     },
     "execution_count": 352,
     "metadata": {},
     "output_type": "execute_result"
    }
   ],
   "source": [
    "# Step - II\n",
    "\n",
    "arr[[1,5,7,2]][0]"
   ]
  },
  {
   "cell_type": "code",
   "execution_count": 354,
   "metadata": {},
   "outputs": [
    {
     "data": {
      "text/plain": [
       "array([[ 4,  5,  6,  7],\n",
       "       [20, 21, 22, 23],\n",
       "       [28, 29, 30, 31],\n",
       "       [ 8,  9, 10, 11]])"
      ]
     },
     "execution_count": 354,
     "metadata": {},
     "output_type": "execute_result"
    }
   ],
   "source": [
    "# step - III all the rows and cols\n",
    "arr[[1,5,7,2]][:,:]"
   ]
  },
  {
   "cell_type": "code",
   "execution_count": 360,
   "metadata": {},
   "outputs": [
    {
     "data": {
      "text/plain": [
       "array([[ 4,  5],\n",
       "       [20, 21],\n",
       "       [28, 29],\n",
       "       [ 8,  9]])"
      ]
     },
     "execution_count": 360,
     "metadata": {},
     "output_type": "execute_result"
    }
   ],
   "source": [
    "arr[[1,5,7,2]][:,0:2]"
   ]
  },
  {
   "cell_type": "code",
   "execution_count": 362,
   "metadata": {},
   "outputs": [
    {
     "data": {
      "text/plain": [
       "array([[ 4,  7],\n",
       "       [20, 23],\n",
       "       [28, 31],\n",
       "       [ 8, 11]])"
      ]
     },
     "execution_count": 362,
     "metadata": {},
     "output_type": "execute_result"
    }
   ],
   "source": [
    "arr[[1,5,7,2]][:,[0,3]]"
   ]
  },
  {
   "cell_type": "markdown",
   "metadata": {},
   "source": [
    "###### Transposing Arrays and Swapping Axes"
   ]
  },
  {
   "cell_type": "code",
   "execution_count": 364,
   "metadata": {},
   "outputs": [
    {
     "data": {
      "text/plain": [
       "array([[ 0,  1,  2,  3,  4],\n",
       "       [ 5,  6,  7,  8,  9],\n",
       "       [10, 11, 12, 13, 14]])"
      ]
     },
     "execution_count": 364,
     "metadata": {},
     "output_type": "execute_result"
    }
   ],
   "source": [
    "# transposing is a special kind of reshaping that similarly returns a view on the underlying data\n",
    "\n",
    "arr = np.arange(15).reshape((3,5))\n",
    "arr"
   ]
  },
  {
   "cell_type": "code",
   "execution_count": 365,
   "metadata": {},
   "outputs": [
    {
     "data": {
      "text/plain": [
       "array([[ 0,  5, 10],\n",
       "       [ 1,  6, 11],\n",
       "       [ 2,  7, 12],\n",
       "       [ 3,  8, 13],\n",
       "       [ 4,  9, 14]])"
      ]
     },
     "execution_count": 365,
     "metadata": {},
     "output_type": "execute_result"
    }
   ],
   "source": [
    "arr.T"
   ]
  },
  {
   "cell_type": "code",
   "execution_count": 366,
   "metadata": {},
   "outputs": [
    {
     "data": {
      "text/plain": [
       "array([[ 1.61250891,  0.13132168,  0.52703186],\n",
       "       [-0.30038912, -0.08707122, -0.39567334],\n",
       "       [-0.66733325, -1.14428654,  0.65741225],\n",
       "       [-0.06038575,  1.46147299, -1.23257696],\n",
       "       [-0.94837267, -0.0114955 ,  0.34690078],\n",
       "       [ 0.29326952, -0.07652887, -0.65313964]])"
      ]
     },
     "execution_count": 366,
     "metadata": {},
     "output_type": "execute_result"
    }
   ],
   "source": [
    "arr = np.random.randn(6,3)\n",
    "arr"
   ]
  },
  {
   "cell_type": "code",
   "execution_count": 367,
   "metadata": {},
   "outputs": [
    {
     "data": {
      "text/plain": [
       "array([[ 4.12481645,  0.90173937,  0.0838794 ],\n",
       "       [ 0.90173937,  3.47611058, -2.40398721],\n",
       "       [ 0.0838794 , -2.40398721,  2.93268835]])"
      ]
     },
     "execution_count": 367,
     "metadata": {},
     "output_type": "execute_result"
    }
   ],
   "source": [
    "# dot product - Multiplying the matching numbers and adding\n",
    "np.dot(arr.T, arr)"
   ]
  },
  {
   "cell_type": "code",
   "execution_count": 368,
   "metadata": {},
   "outputs": [
    {
     "data": {
      "text/plain": [
       "array([[[ 0,  1,  2,  3],\n",
       "        [ 4,  5,  6,  7]],\n",
       "\n",
       "       [[ 8,  9, 10, 11],\n",
       "        [12, 13, 14, 15]]])"
      ]
     },
     "execution_count": 368,
     "metadata": {},
     "output_type": "execute_result"
    }
   ],
   "source": [
    "# for higher dimensional arrays, transpose will accept a tuple of axis numbers to permute the axes\n",
    "\n",
    "arr = np.arange(16).reshape((2,2,4))\n",
    "arr"
   ]
  },
  {
   "cell_type": "code",
   "execution_count": 375,
   "metadata": {},
   "outputs": [
    {
     "data": {
      "text/plain": [
       "array([[[ 0,  1,  2,  3],\n",
       "        [ 4,  5,  6,  7]],\n",
       "\n",
       "       [[ 8,  9, 10, 11],\n",
       "        [12, 13, 14, 15]]])"
      ]
     },
     "execution_count": 375,
     "metadata": {},
     "output_type": "execute_result"
    }
   ],
   "source": [
    "arr.swapaxes(1,1)"
   ]
  },
  {
   "cell_type": "code",
   "execution_count": 378,
   "metadata": {},
   "outputs": [
    {
     "data": {
      "text/plain": [
       "array([[[ 0,  1,  2,  3],\n",
       "        [ 4,  5,  6,  7]],\n",
       "\n",
       "       [[ 8,  9, 10, 11],\n",
       "        [12, 13, 14, 15]]])"
      ]
     },
     "execution_count": 378,
     "metadata": {},
     "output_type": "execute_result"
    }
   ],
   "source": [
    "arr.transpose(0,1,2)"
   ]
  },
  {
   "cell_type": "markdown",
   "metadata": {},
   "source": [
    "###### Universal Functions: Fast Element-Wise Array Functions"
   ]
  },
  {
   "cell_type": "code",
   "execution_count": 379,
   "metadata": {},
   "outputs": [
    {
     "data": {
      "text/plain": [
       "array([0, 1, 2, 3, 4, 5, 6, 7, 8, 9])"
      ]
     },
     "execution_count": 379,
     "metadata": {},
     "output_type": "execute_result"
    }
   ],
   "source": [
    "arr = np.arange(10)\n",
    "arr"
   ]
  },
  {
   "cell_type": "code",
   "execution_count": 380,
   "metadata": {},
   "outputs": [
    {
     "data": {
      "text/plain": [
       "array([0.        , 1.        , 1.41421356, 1.73205081, 2.        ,\n",
       "       2.23606798, 2.44948974, 2.64575131, 2.82842712, 3.        ])"
      ]
     },
     "execution_count": 380,
     "metadata": {},
     "output_type": "execute_result"
    }
   ],
   "source": [
    "np.sqrt(arr)"
   ]
  },
  {
   "cell_type": "code",
   "execution_count": 381,
   "metadata": {},
   "outputs": [
    {
     "data": {
      "text/plain": [
       "array([1.00000000e+00, 2.71828183e+00, 7.38905610e+00, 2.00855369e+01,\n",
       "       5.45981500e+01, 1.48413159e+02, 4.03428793e+02, 1.09663316e+03,\n",
       "       2.98095799e+03, 8.10308393e+03])"
      ]
     },
     "execution_count": 381,
     "metadata": {},
     "output_type": "execute_result"
    }
   ],
   "source": [
    "np.exp(arr)"
   ]
  },
  {
   "cell_type": "code",
   "execution_count": 382,
   "metadata": {},
   "outputs": [
    {
     "data": {
      "text/plain": [
       "array([ 0.59451263, -0.25231602,  0.2899968 ,  1.37553411,  0.47977934,\n",
       "        1.06140795, -0.57843709,  1.20156265])"
      ]
     },
     "execution_count": 382,
     "metadata": {},
     "output_type": "execute_result"
    }
   ],
   "source": [
    "# numpy.maximum computed the element-wise maximum of elements in x and y\n",
    "\n",
    "x = np.random.randn(8)\n",
    "y = np.random.randn(8)\n",
    "np.maximum(x,y)"
   ]
  },
  {
   "cell_type": "code",
   "execution_count": 383,
   "metadata": {},
   "outputs": [
    {
     "data": {
      "text/plain": [
       "array([-2.66140973, -0.96845748,  0.33560194, -6.90790795,  7.57603577,\n",
       "        4.17940538,  7.72655489])"
      ]
     },
     "execution_count": 383,
     "metadata": {},
     "output_type": "execute_result"
    }
   ],
   "source": [
    "#  a ufunc can return multiple arrays. ex. modf function.\n",
    "# a vectorized version of python divmod; it returns fractional and integral parts of floating point array\n",
    "\n",
    "arr = np.random.randn(7)*5\n",
    "arr"
   ]
  },
  {
   "cell_type": "code",
   "execution_count": 385,
   "metadata": {},
   "outputs": [
    {
     "data": {
      "text/plain": [
       "array([-0.66140973, -0.96845748,  0.33560194, -0.90790795,  0.57603577,\n",
       "        0.17940538,  0.72655489])"
      ]
     },
     "execution_count": 385,
     "metadata": {},
     "output_type": "execute_result"
    }
   ],
   "source": [
    "remainder, whole_part = np.modf(arr)\n",
    "remainder"
   ]
  },
  {
   "cell_type": "code",
   "execution_count": 386,
   "metadata": {},
   "outputs": [
    {
     "data": {
      "text/plain": [
       "array([-2., -0.,  0., -6.,  7.,  4.,  7.])"
      ]
     },
     "execution_count": 386,
     "metadata": {},
     "output_type": "execute_result"
    }
   ],
   "source": [
    "whole_part"
   ]
  },
  {
   "cell_type": "code",
   "execution_count": null,
   "metadata": {},
   "outputs": [],
   "source": [
    "# unary ufuncs\n",
    "# binary universal functions"
   ]
  },
  {
   "cell_type": "markdown",
   "metadata": {},
   "source": [
    "###### Array-Oriented Programming with Arrays"
   ]
  },
  {
   "cell_type": "code",
   "execution_count": 387,
   "metadata": {},
   "outputs": [
    {
     "data": {
      "text/plain": [
       "array([[-5.  , -5.  , -5.  , ..., -5.  , -5.  , -5.  ],\n",
       "       [-4.99, -4.99, -4.99, ..., -4.99, -4.99, -4.99],\n",
       "       [-4.98, -4.98, -4.98, ..., -4.98, -4.98, -4.98],\n",
       "       ...,\n",
       "       [ 4.97,  4.97,  4.97, ...,  4.97,  4.97,  4.97],\n",
       "       [ 4.98,  4.98,  4.98, ...,  4.98,  4.98,  4.98],\n",
       "       [ 4.99,  4.99,  4.99, ...,  4.99,  4.99,  4.99]])"
      ]
     },
     "execution_count": 387,
     "metadata": {},
     "output_type": "execute_result"
    }
   ],
   "source": [
    "# s a simple example, suppose we wished to evaluate the function sqrt(x^2 + y^2)\n",
    "# across a regular grid of values. The np.meshgrid function takes two 1D arrays and\n",
    "# produces two 2D matrices corresponding to all pairs of (x, y) in the two arrays:\n",
    "\n",
    "points = np.arange(-5,5,0.01)\n",
    "xs, ys = np.meshgrid(points, points)\n",
    "ys"
   ]
  },
  {
   "cell_type": "code",
   "execution_count": 388,
   "metadata": {},
   "outputs": [
    {
     "data": {
      "text/plain": [
       "array([[7.07106781, 7.06400028, 7.05693985, ..., 7.04988652, 7.05693985,\n",
       "        7.06400028],\n",
       "       [7.06400028, 7.05692568, 7.04985815, ..., 7.04279774, 7.04985815,\n",
       "        7.05692568],\n",
       "       [7.05693985, 7.04985815, 7.04278354, ..., 7.03571603, 7.04278354,\n",
       "        7.04985815],\n",
       "       ...,\n",
       "       [7.04988652, 7.04279774, 7.03571603, ..., 7.0286414 , 7.03571603,\n",
       "        7.04279774],\n",
       "       [7.05693985, 7.04985815, 7.04278354, ..., 7.03571603, 7.04278354,\n",
       "        7.04985815],\n",
       "       [7.06400028, 7.05692568, 7.04985815, ..., 7.04279774, 7.04985815,\n",
       "        7.05692568]])"
      ]
     },
     "execution_count": 388,
     "metadata": {},
     "output_type": "execute_result"
    }
   ],
   "source": [
    "z = np.sqrt(xs**2 + ys**2)\n",
    "z"
   ]
  },
  {
   "cell_type": "markdown",
   "metadata": {},
   "source": [
    "###### Mathematical and Statistical Methods"
   ]
  },
  {
   "cell_type": "code",
   "execution_count": 389,
   "metadata": {},
   "outputs": [
    {
     "data": {
      "text/plain": [
       "array([[ 1.68869781,  0.10981135,  0.11659084,  2.13933808],\n",
       "       [ 1.01574919, -0.90575597, -0.73407301,  0.84232778],\n",
       "       [ 0.5571349 ,  1.15443487, -1.26961148,  0.17873989],\n",
       "       [-1.30362449,  0.30988815,  0.51310192,  0.83028694],\n",
       "       [ 0.47681652, -1.78617807,  0.27615436,  0.89647732]])"
      ]
     },
     "execution_count": 389,
     "metadata": {},
     "output_type": "execute_result"
    }
   ],
   "source": [
    "arr = np.random.randn(5,4)\n",
    "arr"
   ]
  },
  {
   "cell_type": "code",
   "execution_count": 390,
   "metadata": {},
   "outputs": [
    {
     "data": {
      "text/plain": [
       "0.2553153455908174"
      ]
     },
     "execution_count": 390,
     "metadata": {},
     "output_type": "execute_result"
    }
   ],
   "source": [
    "arr.mean()"
   ]
  },
  {
   "cell_type": "code",
   "execution_count": 391,
   "metadata": {},
   "outputs": [
    {
     "data": {
      "text/plain": [
       "5.106306911816349"
      ]
     },
     "execution_count": 391,
     "metadata": {},
     "output_type": "execute_result"
    }
   ],
   "source": [
    "arr.sum()"
   ]
  },
  {
   "cell_type": "code",
   "execution_count": 392,
   "metadata": {},
   "outputs": [
    {
     "data": {
      "text/plain": [
       "array([ 1.01360952,  0.054562  ,  0.15517454,  0.08741313, -0.03418247])"
      ]
     },
     "execution_count": 392,
     "metadata": {},
     "output_type": "execute_result"
    }
   ],
   "source": [
    "arr.mean(axis=1)"
   ]
  },
  {
   "cell_type": "code",
   "execution_count": 394,
   "metadata": {},
   "outputs": [
    {
     "data": {
      "text/plain": [
       "array([ 2.43477393, -1.11779966, -1.09783736,  4.88717001])"
      ]
     },
     "execution_count": 394,
     "metadata": {},
     "output_type": "execute_result"
    }
   ],
   "source": [
    "arr.sum(axis=0)"
   ]
  },
  {
   "cell_type": "code",
   "execution_count": null,
   "metadata": {},
   "outputs": [],
   "source": [
    "\"\"\"\n",
    "Array statistical methods\n",
    "sum\n",
    "mean\n",
    "std, var\n",
    "min, max\n",
    "argmin, argmax\n",
    "cumsum\n",
    "cumprod\n",
    "\"\"\""
   ]
  },
  {
   "cell_type": "code",
   "execution_count": null,
   "metadata": {},
   "outputs": [],
   "source": []
  },
  {
   "cell_type": "code",
   "execution_count": 403,
   "metadata": {},
   "outputs": [
    {
     "data": {
      "text/plain": [
       "array([[-1.78617807, -0.73407301,  0.47681652,  0.83028694],\n",
       "       [-1.30362449,  0.11659084,  0.51310192,  0.89647732],\n",
       "       [-1.26961148,  0.17873989,  0.5571349 ,  1.01574919],\n",
       "       [-0.90575597,  0.27615436,  0.84232778,  1.15443487],\n",
       "       [ 0.10981135,  0.30988815,  1.68869781,  2.13933808]])"
      ]
     },
     "execution_count": 403,
     "metadata": {},
     "output_type": "execute_result"
    }
   ],
   "source": [
    "arr.sort(0)\n",
    "arr"
   ]
  },
  {
   "cell_type": "code",
   "execution_count": 405,
   "metadata": {},
   "outputs": [
    {
     "data": {
      "text/plain": [
       "array([1, 2, 4, 5])"
      ]
     },
     "execution_count": 405,
     "metadata": {},
     "output_type": "execute_result"
    }
   ],
   "source": [
    "arr = np.array([1,2,1,4,4,5,4,4,5,5])\n",
    "np.unique(arr)"
   ]
  },
  {
   "cell_type": "code",
   "execution_count": null,
   "metadata": {},
   "outputs": [],
   "source": [
    "\"\"\"\n",
    "Array Set operations\n",
    "unique\n",
    "intersect1d\n",
    "union1d\n",
    "in1d\n",
    "setdiff1d\n",
    "\n",
    "\"\"\""
   ]
  },
  {
   "cell_type": "markdown",
   "metadata": {},
   "source": [
    "###### File Input and output with Arrays"
   ]
  },
  {
   "cell_type": "code",
   "execution_count": 406,
   "metadata": {},
   "outputs": [],
   "source": [
    "# array is saved to local disk with save method\n",
    "\n",
    "arr = np.arange(10)\n",
    "np.save('somearray', arr)"
   ]
  },
  {
   "cell_type": "code",
   "execution_count": 407,
   "metadata": {},
   "outputs": [
    {
     "data": {
      "text/plain": [
       "array([0, 1, 2, 3, 4, 5, 6, 7, 8, 9])"
      ]
     },
     "execution_count": 407,
     "metadata": {},
     "output_type": "execute_result"
    }
   ],
   "source": [
    "# array on disk can be loaded with load method\n",
    "\n",
    "np.load('somearray.npy')"
   ]
  },
  {
   "cell_type": "code",
   "execution_count": 408,
   "metadata": {},
   "outputs": [],
   "source": [
    "# you can save multiple arrays in uncompressed archive using np.savez and passing the arrays are keywords\n",
    "\n",
    "np.savez('array_archive.npz', a=arr, b=arr)"
   ]
  },
  {
   "cell_type": "code",
   "execution_count": 409,
   "metadata": {},
   "outputs": [],
   "source": [
    "arch = np.load('array_archive.npz')"
   ]
  },
  {
   "cell_type": "markdown",
   "metadata": {},
   "source": [
    "###### Linear Algebra"
   ]
  },
  {
   "cell_type": "code",
   "execution_count": 410,
   "metadata": {},
   "outputs": [
    {
     "data": {
      "text/plain": [
       "array([[1, 2, 3],\n",
       "       [4, 5, 6]])"
      ]
     },
     "execution_count": 410,
     "metadata": {},
     "output_type": "execute_result"
    }
   ],
   "source": [
    "x = np.array([[1,2,3],[4,5,6]])\n",
    "y = np.array([[6,23],[-1,7],[8,9]])\n",
    "x"
   ]
  },
  {
   "cell_type": "code",
   "execution_count": 411,
   "metadata": {},
   "outputs": [
    {
     "data": {
      "text/plain": [
       "array([[ 6, 23],\n",
       "       [-1,  7],\n",
       "       [ 8,  9]])"
      ]
     },
     "execution_count": 411,
     "metadata": {},
     "output_type": "execute_result"
    }
   ],
   "source": [
    "y"
   ]
  },
  {
   "cell_type": "code",
   "execution_count": 412,
   "metadata": {},
   "outputs": [
    {
     "data": {
      "text/plain": [
       "array([[ 28,  64],\n",
       "       [ 67, 181]])"
      ]
     },
     "execution_count": 412,
     "metadata": {},
     "output_type": "execute_result"
    }
   ],
   "source": [
    "x.dot(y)"
   ]
  },
  {
   "cell_type": "code",
   "execution_count": 414,
   "metadata": {},
   "outputs": [
    {
     "data": {
      "text/plain": [
       "array([[ 28,  64],\n",
       "       [ 67, 181]])"
      ]
     },
     "execution_count": 414,
     "metadata": {},
     "output_type": "execute_result"
    }
   ],
   "source": [
    "np.dot(x,y) # both are same"
   ]
  },
  {
   "cell_type": "code",
   "execution_count": 415,
   "metadata": {},
   "outputs": [
    {
     "data": {
      "text/plain": [
       "'\\ncommonly used numpy linear algebra functions\\n\\ndiag\\ndot\\ntrace\\ndet\\neig\\ninv\\npinv\\nqr\\nsvd\\nsolve\\nlstsq\\n'"
      ]
     },
     "execution_count": 415,
     "metadata": {},
     "output_type": "execute_result"
    }
   ],
   "source": [
    "\"\"\"\n",
    "commonly used numpy linear algebra functions\n",
    "\n",
    "diag\n",
    "dot\n",
    "trace\n",
    "det\n",
    "eig\n",
    "inv\n",
    "pinv\n",
    "qr\n",
    "svd\n",
    "solve\n",
    "lstsq\n",
    "\"\"\""
   ]
  },
  {
   "cell_type": "code",
   "execution_count": null,
   "metadata": {},
   "outputs": [],
   "source": []
  },
  {
   "cell_type": "code",
   "execution_count": null,
   "metadata": {},
   "outputs": [],
   "source": []
  },
  {
   "cell_type": "code",
   "execution_count": null,
   "metadata": {},
   "outputs": [],
   "source": []
  },
  {
   "cell_type": "code",
   "execution_count": null,
   "metadata": {},
   "outputs": [],
   "source": []
  },
  {
   "cell_type": "code",
   "execution_count": null,
   "metadata": {},
   "outputs": [],
   "source": []
  }
 ],
 "metadata": {
  "kernelspec": {
   "display_name": "Python 3",
   "language": "python",
   "name": "python3"
  },
  "language_info": {
   "codemirror_mode": {
    "name": "ipython",
    "version": 3
   },
   "file_extension": ".py",
   "mimetype": "text/x-python",
   "name": "python",
   "nbconvert_exporter": "python",
   "pygments_lexer": "ipython3",
   "version": "3.7.2"
  }
 },
 "nbformat": 4,
 "nbformat_minor": 2
}
