{
 "cells": [
  {
   "cell_type": "markdown",
   "metadata": {},
   "source": [
    "## Built-in Data Structures, Functions and Files"
   ]
  },
  {
   "cell_type": "code",
   "execution_count": 3,
   "metadata": {},
   "outputs": [
    {
     "data": {
      "text/plain": [
       "'\\n3.1 Data Structures and Sequences\\nTuple\\nList \\nBuilt-in Sequence Functions\\ndict\\nset \\nList, Set, and Dict Comprehensions\\n\\n3.2 Functions\\nNamespaces, Scope, and Local Functions 70\\nReturning Multiple Values 71\\nFunctions Are Objects 72\\nAnonymous (Lambda) Functions 73\\nCurrying: Partial Argument Application 74\\nGenerators 75\\nErrors and Exception Handling 77\\n\\n3.3 Files and the Operating System 80\\nBytes and Unicode with Files 83\\n3.4 Conclusion\\n'"
      ]
     },
     "execution_count": 3,
     "metadata": {},
     "output_type": "execute_result"
    }
   ],
   "source": [
    "\"\"\"\n",
    "Built in data Structures in Python\n",
    "-Lists, Tuples, Sets, Dicts\n",
    "\n",
    "Lists - Variable-length and mutable sequences of python\n",
    "Tuples - Immutable sequence \n",
    "sets - Set is unordered collection of unique elements\n",
    "Dict - also called as Hashmap or Associative array. \n",
    "\n",
    "MUTABLE sequences - Lists, set, dict\n",
    "Immutable - bool, int, float, tuple, str\n",
    "\n",
    "Collections - *Lists, Dictionaries, Sets, arrays, Tuples\n",
    "\n",
    "**Elements can be type of int, string, list etc\n",
    "**Elements are Located by indexes\n",
    "\n",
    "Indexes\n",
    "    -Needed for assignments\n",
    "    -Run backward (-1 to length)\n",
    "    -Run Fwd (1 to length)\n",
    "\n",
    "1.TUPLE\n",
    "--------\n",
    "Declaring a tuple - can be declared with assignment\n",
    "                  - can be declared with tuple() method\n",
    "Elements of tuple can be accessed with square brackets\n",
    "                    >tup[1]\n",
    "Tuple is immutable, once the tuple is created it is not possible to modify elements inside it\n",
    "If the object inside tuple is mutable such as list we can modify it\n",
    "Adding and Multiplying tuples\n",
    "Unpacking the tuples - by assignment\n",
    "                     - swapping\n",
    "                     - rest method\n",
    "count() - built-in tuple method used to count occurences of each element.\n",
    "\n",
    "\n",
    "2.LISTS\n",
    "----------\n",
    "\n",
    "variable-length and mutable type of python\n",
    "list() - takes sequence and converts it into lists\n",
    "list[1] = 'one' modifying list elements\n",
    "list.append() - elements are added at the end of the list\n",
    "              - appends the elements at the end of the list,\n",
    "              - if it is single element, it is added inside the current list.\n",
    "              - if it is a list that you are appending, appends whole new list as it is inside of the current list.\n",
    "\n",
    "list.extend() - extends the list by appending elements from iterator\n",
    "list.insert() - elements are inserted at particular location\n",
    "list.pop()    - removes elements by index value\n",
    "list.remove() - removes elements by value\n",
    "list.sort()   - permanently sorts the list\n",
    "list.sorted() - Temporarily sorts the list\n",
    "bisect()      - checks the position of the element\n",
    "              - using bisect() with the unsorted list might not give you errors but leads to incorrect results\n",
    "concatenating lists\n",
    "slicing       - list[3:4]\n",
    "              - you can assign new values with slicing in lists\n",
    "enumerate()   - adds counter to the iterable\n",
    "              - by default enumerate stats at 0  if you give any number it starts from that number\n",
    "*zip()        - pairs up elements of number of lists, tuples or other sequences to create a list of tuples\n",
    "              - result is list of tuples\n",
    "              - Zip is also used to convert list of row names into list of column names\n",
    "3.SET\n",
    "-------\n",
    "\n",
    "Unordered collection of unique elements\n",
    "set can be created in two ways with set function or with curly braces\n",
    "sets supports mathematical operations like union, intersection, difference\n",
    "\n",
    "remove()  - removes specified element\n",
    "pop()     - removes element by index value\n",
    "union()   - returns set containing union of sets |\n",
    "intersection() -  returns set containing intersection of sets\n",
    "\n",
    "\n",
    "4.DICT\n",
    "-------\n",
    "dict is also called as 'Hashmap' or 'Associative Array'.\n",
    "dict is collection of key and value pairs.\n",
    "key and values are python objects.\n",
    "use 'in' to check if dictionary contains key or not.\n",
    "key() and value() methods give you iterables of dict keys and values\n",
    "del() and pop() methods are used to delete the elements\n",
    "zip() method used to create dictionary from the sequences\n",
    "get() returns value when given a key\n",
    "\n",
    "While the values of a dict can be any python objects, the keys are generally have to be immutable objects\n",
    "like scalar types or tuples (all items in tuple need to be immutable).\n",
    "Technically it is called Hasablility\n",
    "\n",
    "hash() you can check whether object is hashable(used as a key) or not\n",
    "\n",
    "You can use list as a key but you have to convert it into tuple first and\n",
    "all the elements inside the list should be immutable.\n",
    "\n",
    "List Comprehensions\n",
    "    allows you to create new lists by\n",
    "        -filtering the elements\n",
    "        -transforming the elements\n",
    "\n",
    "\"\"\""
   ]
  },
  {
   "cell_type": "markdown",
   "metadata": {},
   "source": [
    "###### Builtin data structures in python are tuples, lists, dicts and sets\n",
    "Data frames and series are from add on libraries like pandas and NumPy"
   ]
  },
  {
   "cell_type": "code",
   "execution_count": 4,
   "metadata": {},
   "outputs": [
    {
     "data": {
      "text/plain": [
       "(4, 5, 6, 7, 8, 9)"
      ]
     },
     "execution_count": 4,
     "metadata": {},
     "output_type": "execute_result"
    }
   ],
   "source": [
    "# tuple is fixed length, immutable sequence of python objects\n",
    "\n",
    "tup = 4,5,6,7,8,9\n",
    "tup"
   ]
  },
  {
   "cell_type": "code",
   "execution_count": 5,
   "metadata": {},
   "outputs": [
    {
     "data": {
      "text/plain": [
       "(1, 2, (3, 4), (5, 6, 7, 8))"
      ]
     },
     "execution_count": 5,
     "metadata": {},
     "output_type": "execute_result"
    }
   ],
   "source": [
    "nested_tup = (1,2,(3,4),(5,6,7,8))\n",
    "nested_tup"
   ]
  },
  {
   "cell_type": "code",
   "execution_count": 6,
   "metadata": {},
   "outputs": [
    {
     "name": "stdout",
     "output_type": "stream",
     "text": [
      "('S', 't', 'r', 'i', 'n', 'g')\n",
      "(1, 2, 3, 4, 5)\n"
     ]
    }
   ],
   "source": [
    "# you can convert any sequence or iterator to ta tuple by invoking tuple\n",
    "\n",
    "s = 'String'\n",
    "l = [1,2,3,4,5]\n",
    "\n",
    "s = tuple(s)\n",
    "l = tuple(l)\n",
    "\n",
    "print(s)\n",
    "print(l)"
   ]
  },
  {
   "cell_type": "code",
   "execution_count": 7,
   "metadata": {},
   "outputs": [
    {
     "name": "stdout",
     "output_type": "stream",
     "text": [
      "r\n",
      "4\n"
     ]
    }
   ],
   "source": [
    "# elements can be accessed with square brackets\n",
    "\n",
    "print(s[2])\n",
    "print(l[3])"
   ]
  },
  {
   "cell_type": "code",
   "execution_count": 8,
   "metadata": {},
   "outputs": [
    {
     "ename": "TypeError",
     "evalue": "'tuple' object does not support item assignment",
     "output_type": "error",
     "traceback": [
      "\u001b[1;31m---------------------------------------------------------------------------\u001b[0m",
      "\u001b[1;31mTypeError\u001b[0m                                 Traceback (most recent call last)",
      "\u001b[1;32m<ipython-input-8-1045f6e9884f>\u001b[0m in \u001b[0;36m<module>\u001b[1;34m\u001b[0m\n\u001b[0;32m      2\u001b[0m \u001b[1;33m\u001b[0m\u001b[0m\n\u001b[0;32m      3\u001b[0m \u001b[0mtup\u001b[0m \u001b[1;33m=\u001b[0m \u001b[1;33m(\u001b[0m\u001b[1;34m'foo'\u001b[0m\u001b[1;33m,\u001b[0m \u001b[1;36m1\u001b[0m\u001b[1;33m,\u001b[0m \u001b[1;33m[\u001b[0m\u001b[1;36m1\u001b[0m\u001b[1;33m,\u001b[0m\u001b[1;36m2\u001b[0m\u001b[1;33m,\u001b[0m\u001b[1;36m3\u001b[0m\u001b[1;33m,\u001b[0m\u001b[1;36m4\u001b[0m\u001b[1;33m]\u001b[0m\u001b[1;33m)\u001b[0m\u001b[1;33m\u001b[0m\u001b[1;33m\u001b[0m\u001b[0m\n\u001b[1;32m----> 4\u001b[1;33m \u001b[0mtup\u001b[0m\u001b[1;33m[\u001b[0m\u001b[1;36m2\u001b[0m\u001b[1;33m]\u001b[0m \u001b[1;33m=\u001b[0m \u001b[1;33m[\u001b[0m\u001b[1;36m1\u001b[0m\u001b[1;33m,\u001b[0m\u001b[1;36m2\u001b[0m\u001b[1;33m,\u001b[0m\u001b[1;36m3\u001b[0m\u001b[1;33m]\u001b[0m\u001b[1;33m\u001b[0m\u001b[1;33m\u001b[0m\u001b[0m\n\u001b[0m",
      "\u001b[1;31mTypeError\u001b[0m: 'tuple' object does not support item assignment"
     ]
    }
   ],
   "source": [
    "# once the tuple is created it is not possible to modify the object inside it\n",
    "\n",
    "tup = ('foo', 1, [1,2,3,4])\n",
    "tup[2] = [1,2,3]"
   ]
  },
  {
   "cell_type": "code",
   "execution_count": null,
   "metadata": {},
   "outputs": [],
   "source": [
    "# if the object inside the tuple is mutable such as list. we can append it\n",
    "\n",
    "tup[2].append(3)\n",
    "tup"
   ]
  },
  {
   "cell_type": "code",
   "execution_count": null,
   "metadata": {},
   "outputs": [],
   "source": [
    "# adding tuples\n",
    "\n",
    "tup = tup + ((1,2),3,4)\n",
    "tup"
   ]
  },
  {
   "cell_type": "code",
   "execution_count": null,
   "metadata": {},
   "outputs": [],
   "source": [
    "# multiplying tuples\n",
    "\n",
    "tup = tup * 2\n",
    "tup"
   ]
  },
  {
   "cell_type": "markdown",
   "metadata": {},
   "source": [
    "###### Unpacking tuples"
   ]
  },
  {
   "cell_type": "code",
   "execution_count": null,
   "metadata": {},
   "outputs": [],
   "source": [
    "# if you try to assign a tuple-like expression of variables, \n",
    "# python will attempt to unpack the value on the rihthand side of the equal sign\n",
    "\n",
    "tup = (4,5,6)\n",
    "a,b,c = tup\n",
    "b"
   ]
  },
  {
   "cell_type": "code",
   "execution_count": null,
   "metadata": {},
   "outputs": [],
   "source": [
    "tup = (4,5,(6,7))\n",
    "a,b,(c,d) = tup\n",
    "c"
   ]
  },
  {
   "cell_type": "code",
   "execution_count": null,
   "metadata": {},
   "outputs": [],
   "source": [
    "# swapping\n",
    "\n",
    "a, b = 1, 2 \n",
    "\n",
    "print(a, b)\n",
    "\n",
    "b, a = a, b\n",
    "\n",
    "print(a, b)"
   ]
  },
  {
   "cell_type": "code",
   "execution_count": null,
   "metadata": {},
   "outputs": [],
   "source": [
    "# a common use of variable unpacking is iterating over sequences of tuples or lists\n",
    "\n",
    "seq = [(1,2,3),(4,5,6),(7,8,9)]\n",
    "\n",
    "for a,b,c in seq:\n",
    "    print('a={0} b={1} c={2}'.format(a,b,c))"
   ]
  },
  {
   "cell_type": "code",
   "execution_count": null,
   "metadata": {},
   "outputs": [],
   "source": [
    "# rest method in tuples\n",
    "\n",
    "values = 1,2,3,4,5,6\n",
    "\n",
    "a,b,c, *rest = values\n",
    "\n",
    "print(a)\n",
    "print(b)\n",
    "print(rest)"
   ]
  },
  {
   "cell_type": "markdown",
   "metadata": {},
   "source": [
    "###### Tuple methods"
   ]
  },
  {
   "cell_type": "code",
   "execution_count": null,
   "metadata": {},
   "outputs": [],
   "source": [
    "# count method counts the number of occurances of the value\n",
    "\n",
    "a = (1,2,2,3,3,4,4,5,5,5,5,5,8,8,8,8,8,9)\n",
    "\n",
    "a.count(8)"
   ]
  },
  {
   "cell_type": "markdown",
   "metadata": {},
   "source": [
    "###### LISTS"
   ]
  },
  {
   "cell_type": "code",
   "execution_count": 9,
   "metadata": {},
   "outputs": [
    {
     "data": {
      "text/plain": [
       "['goo', 'foo', 'poo']"
      ]
     },
     "execution_count": 9,
     "metadata": {},
     "output_type": "execute_result"
    }
   ],
   "source": [
    "# lists are variable-length and their contents can be modified in-place\n",
    "# you can define them with square brackets[] or using list type\n",
    "\n",
    "a_list = [1,2,3,4,None]\n",
    "\n",
    "tup = ('goo', 'foo', 'poo')\n",
    "\n",
    "b_list = list(tup)\n",
    "b_list"
   ]
  },
  {
   "cell_type": "code",
   "execution_count": null,
   "metadata": {},
   "outputs": [],
   "source": [
    "b_list[1]"
   ]
  },
  {
   "cell_type": "code",
   "execution_count": 24,
   "metadata": {},
   "outputs": [
    {
     "data": {
      "text/plain": [
       "['red',\n",
       " 'chleep',\n",
       " 'poo',\n",
       " 1,\n",
       " 2,\n",
       " 3,\n",
       " 4,\n",
       " 'addition',\n",
       " 6,\n",
       " [78, 'good'],\n",
       " 78,\n",
       " 78,\n",
       " 'a',\n",
       " 'd',\n",
       " 'a',\n",
       " 'd',\n",
       " 's',\n",
       " '12',\n",
       " 1,\n",
       " '12',\n",
       " 1]"
      ]
     },
     "execution_count": 24,
     "metadata": {},
     "output_type": "execute_result"
    }
   ],
   "source": [
    "# modifying list elements\n",
    "\n",
    "b_list[1] = 'chleep'\n",
    "b_list"
   ]
  },
  {
   "cell_type": "code",
   "execution_count": null,
   "metadata": {},
   "outputs": [],
   "source": [
    "gen = range(10)\n",
    "print(gen)\n",
    "\n",
    "gen = list(gen) # materializing iterator\n",
    "print(gen)"
   ]
  },
  {
   "cell_type": "markdown",
   "metadata": {},
   "source": [
    "###### Adding and Removing elements from list"
   ]
  },
  {
   "cell_type": "code",
   "execution_count": null,
   "metadata": {},
   "outputs": [],
   "source": [
    "# elements can be appended to the end of the list with append method\n",
    "\n",
    "b_list.append('pikachu')\n",
    "b_list"
   ]
  },
  {
   "cell_type": "code",
   "execution_count": 10,
   "metadata": {},
   "outputs": [
    {
     "data": {
      "text/plain": [
       "['goo', 'red', 'foo', 'poo']"
      ]
     },
     "execution_count": 10,
     "metadata": {},
     "output_type": "execute_result"
    }
   ],
   "source": [
    "# inserting element into specific location in a list\n",
    "\n",
    "b_list.insert(1, 'red')\n",
    "b_list"
   ]
  },
  {
   "cell_type": "code",
   "execution_count": null,
   "metadata": {},
   "outputs": [],
   "source": [
    "# pop removes elements from list\n",
    "\n",
    "b_list.pop(1)\n",
    "b_list"
   ]
  },
  {
   "cell_type": "code",
   "execution_count": 23,
   "metadata": {},
   "outputs": [
    {
     "data": {
      "text/plain": [
       "['red',\n",
       " 'foo',\n",
       " 'poo',\n",
       " 1,\n",
       " 2,\n",
       " 3,\n",
       " 4,\n",
       " 'addition',\n",
       " 6,\n",
       " [78, 'good'],\n",
       " 78,\n",
       " 78,\n",
       " 'a',\n",
       " 'd',\n",
       " 'a',\n",
       " 'd',\n",
       " 's',\n",
       " '12',\n",
       " 1,\n",
       " '12',\n",
       " 1]"
      ]
     },
     "execution_count": 23,
     "metadata": {},
     "output_type": "execute_result"
    }
   ],
   "source": [
    "# with remove method elements can be removed by value\n",
    "\n",
    "b_list.remove('goo')\n",
    "b_list"
   ]
  },
  {
   "cell_type": "code",
   "execution_count": null,
   "metadata": {},
   "outputs": [],
   "source": [
    "# checking if list contains value\n",
    "\n",
    "'poo' in b_list"
   ]
  },
  {
   "cell_type": "code",
   "execution_count": null,
   "metadata": {},
   "outputs": [],
   "source": [
    "'zoo' in b_list"
   ]
  },
  {
   "cell_type": "markdown",
   "metadata": {},
   "source": [
    "###### Concatenating and combining lists"
   ]
  },
  {
   "cell_type": "code",
   "execution_count": null,
   "metadata": {},
   "outputs": [],
   "source": [
    "[1,2,3,'hari', 'sasi'] + ['shiva', 'jyothi']\n"
   ]
  },
  {
   "cell_type": "code",
   "execution_count": 22,
   "metadata": {},
   "outputs": [
    {
     "data": {
      "text/plain": [
       "['goo',\n",
       " 'red',\n",
       " 'foo',\n",
       " 'poo',\n",
       " 1,\n",
       " 2,\n",
       " 3,\n",
       " 4,\n",
       " 'addition',\n",
       " 6,\n",
       " [78, 'good'],\n",
       " 78,\n",
       " 78,\n",
       " 'a',\n",
       " 'd',\n",
       " 'a',\n",
       " 'd',\n",
       " 's',\n",
       " '12',\n",
       " 1,\n",
       " '12',\n",
       " 1]"
      ]
     },
     "execution_count": 22,
     "metadata": {},
     "output_type": "execute_result"
    }
   ],
   "source": [
    "# extend is inpalace\n",
    "# extend extends the list by appending elements from iterable at the end of the list\n",
    "\n",
    "b_list.extend(['12', 1])\n",
    "b_list"
   ]
  },
  {
   "cell_type": "code",
   "execution_count": 15,
   "metadata": {},
   "outputs": [
    {
     "data": {
      "text/plain": [
       "['goo', 'red', 'foo', 'poo', 1, 2, 3, 4, 'addition', 6, [78, 'good'], 78, 78]"
      ]
     },
     "execution_count": 15,
     "metadata": {},
     "output_type": "execute_result"
    }
   ],
   "source": [
    "# appends the objects at the end of the list\n",
    "# if we pass a single element - it appends inside the list\n",
    "# if we pass a list in appaend - it appends new list inside the current list\n",
    "\n",
    "b_list.append(78)\n",
    "b_list"
   ]
  },
  {
   "cell_type": "code",
   "execution_count": null,
   "metadata": {},
   "outputs": [],
   "source": [
    "# appending into a larger list\n",
    "\n",
    "new_list = []\n",
    "for x in b_list:\n",
    "    new_list.append(x)\n",
    "\n",
    "new_list\n"
   ]
  },
  {
   "cell_type": "code",
   "execution_count": 25,
   "metadata": {},
   "outputs": [
    {
     "data": {
      "text/plain": [
       "['t', 'h', 'e', 'n', 'e', 'w', 'l', 'i', 's', 't']"
      ]
     },
     "execution_count": 25,
     "metadata": {},
     "output_type": "execute_result"
    }
   ],
   "source": [
    "# the same thing doesnt work with the extend.\n",
    "# extend add elements at the end of the list\n",
    "# append add another list to the end of this list\n",
    "\n",
    "new_list2 = []\n",
    "\n",
    "for x in new_list:\n",
    "    new_list2.extend(x)\n",
    "\n",
    "new_list2"
   ]
  },
  {
   "cell_type": "code",
   "execution_count": 21,
   "metadata": {},
   "outputs": [
    {
     "data": {
      "text/plain": [
       "['the', 'new', 'list']"
      ]
     },
     "execution_count": 21,
     "metadata": {},
     "output_type": "execute_result"
    }
   ],
   "source": [
    "new_list2 = ['the', 'new', 'list']\n",
    "new_list.extend(new_list2)\n",
    "new_list"
   ]
  },
  {
   "cell_type": "markdown",
   "metadata": {},
   "source": [
    "###### sorting"
   ]
  },
  {
   "cell_type": "code",
   "execution_count": null,
   "metadata": {},
   "outputs": [],
   "source": [
    "new_list2.sort()\n",
    "new_list2"
   ]
  },
  {
   "cell_type": "code",
   "execution_count": null,
   "metadata": {},
   "outputs": [],
   "source": [
    "# sorting a collection of strings according to their length\n",
    "\n",
    "new_list2.sort(key=len)\n",
    "new_list2"
   ]
  },
  {
   "cell_type": "markdown",
   "metadata": {},
   "source": [
    "###### Binary search and maintaining sorted list"
   ]
  },
  {
   "cell_type": "code",
   "execution_count": 26,
   "metadata": {},
   "outputs": [
    {
     "data": {
      "text/plain": [
       "4"
      ]
     },
     "execution_count": 26,
     "metadata": {},
     "output_type": "execute_result"
    }
   ],
   "source": [
    "# bisect method does not check wheter list is sorted or not\n",
    "# using them with unsorted list will not give errors but may lead to incorrect results\n",
    "\n",
    "import bisect \n",
    "\n",
    "c = [1,2,2,2,3,4,5,5,6,7,8,9,9]\n",
    "bisect.bisect(c, 2)"
   ]
  },
  {
   "cell_type": "markdown",
   "metadata": {},
   "source": [
    "###### slicing"
   ]
  },
  {
   "cell_type": "code",
   "execution_count": null,
   "metadata": {},
   "outputs": [],
   "source": [
    "seq = [7,8,5,6,9,8,5,2,4]\n",
    "seq[2:5]"
   ]
  },
  {
   "cell_type": "code",
   "execution_count": null,
   "metadata": {},
   "outputs": [],
   "source": [
    "#assigning new values with slicing\n",
    "\n",
    "seq[2:5] = [1,2,3]\n",
    "seq"
   ]
  },
  {
   "cell_type": "code",
   "execution_count": null,
   "metadata": {},
   "outputs": [],
   "source": [
    "print(seq[:5], 'from start to 5')\n",
    "\n",
    "print(seq[5:], 'from 5 to till end')"
   ]
  },
  {
   "cell_type": "code",
   "execution_count": null,
   "metadata": {},
   "outputs": [],
   "source": [
    "# negative indices slice the sequence relative to the end\n",
    "# if there are 10 elements it shows first 5\n",
    "\n",
    "seq[:-5]"
   ]
  },
  {
   "cell_type": "code",
   "execution_count": null,
   "metadata": {},
   "outputs": [],
   "source": [
    "# this is step in slicing. returns every other element (alternate)\n",
    "\n",
    "seq[::2]\n",
    "seq[::-1] # -1 reverses the list or tuple"
   ]
  },
  {
   "cell_type": "markdown",
   "metadata": {},
   "source": [
    "###### enumerate"
   ]
  },
  {
   "cell_type": "code",
   "execution_count": 27,
   "metadata": {},
   "outputs": [
    {
     "name": "stdout",
     "output_type": "stream",
     "text": [
      "<enumerate object at 0x000001F3C8FE4C60>\n",
      "[(0, 'think'), (1, 'eat'), (2, 'sleep'), (3, 'think')]\n"
     ]
    }
   ],
   "source": [
    "# adds a counter to the iterable\n",
    "# enumerate(iterable, start=0)\n",
    "# start is index value from where iterater should be started\n",
    "\n",
    "l1 = ['think', 'eat',  'sleep', 'think']\n",
    "l2 = 'kalyan'\n",
    "\n",
    "obj1 = enumerate(l1)\n",
    "print(obj1)\n",
    "\n",
    "obj_list = list(obj1)\n",
    "print(obj_list)"
   ]
  },
  {
   "cell_type": "code",
   "execution_count": null,
   "metadata": {},
   "outputs": [],
   "source": [
    "obj2 = enumerate(l2, start=100)\n",
    "list(obj2)"
   ]
  },
  {
   "cell_type": "markdown",
   "metadata": {},
   "source": [
    "###### sorting"
   ]
  },
  {
   "cell_type": "code",
   "execution_count": null,
   "metadata": {},
   "outputs": [],
   "source": [
    "sol = ['this', 'is', 'sorted']\n",
    "sol"
   ]
  },
  {
   "cell_type": "code",
   "execution_count": null,
   "metadata": {},
   "outputs": [],
   "source": [
    "sol.sort()\n",
    "sol"
   ]
  },
  {
   "cell_type": "code",
   "execution_count": null,
   "metadata": {},
   "outputs": [],
   "source": [
    "# results are temporary in sorted\n",
    "# sort results are permanent\n",
    "\n",
    "sol2 = ['white', 'and', 'black', 'zebra']\n",
    "print(sorted(sol2))\n",
    "sol2"
   ]
  },
  {
   "cell_type": "code",
   "execution_count": null,
   "metadata": {},
   "outputs": [],
   "source": [
    "sorted('Horse Race')"
   ]
  },
  {
   "cell_type": "markdown",
   "metadata": {},
   "source": [
    "###### Zip"
   ]
  },
  {
   "cell_type": "code",
   "execution_count": 28,
   "metadata": {},
   "outputs": [
    {
     "data": {
      "text/plain": [
       "[('foo', 1), ('boo', 2), ('zoo', 3)]"
      ]
     },
     "execution_count": 28,
     "metadata": {},
     "output_type": "execute_result"
    }
   ],
   "source": [
    "# pairs up elements of a number of lists, tuples or other sequences to create a list of tuples\n",
    "\n",
    "seq1 = ['foo', 'boo', 'zoo']\n",
    "seq2 = [1,2,3]\n",
    "\n",
    "zipped = zip(seq1,seq2)\n",
    "list(zipped)"
   ]
  },
  {
   "cell_type": "code",
   "execution_count": null,
   "metadata": {},
   "outputs": [],
   "source": [
    "seq3 = [True, False]\n",
    "\n",
    "zipped = zip(seq1,seq2, seq3)\n",
    "list(zipped)"
   ]
  },
  {
   "cell_type": "code",
   "execution_count": 29,
   "metadata": {},
   "outputs": [
    {
     "name": "stdout",
     "output_type": "stream",
     "text": [
      "0: foo 1\n",
      "1: boo 2\n",
      "2: zoo 3\n"
     ]
    }
   ],
   "source": [
    "# a very common use of zip is simultaneously iterating over multiple sequences,\n",
    "# possible also combined with enumerate\n",
    "\n",
    "for i, (a, b) in enumerate(zip(seq1, seq2)):\n",
    "    print('{0}: {1} {2}'.format(i,a,b))\n",
    "          \n",
    "          "
   ]
  },
  {
   "cell_type": "code",
   "execution_count": 30,
   "metadata": {},
   "outputs": [
    {
     "data": {
      "text/plain": [
       "('Kalyan', 'Akhilesh', 'Anurag')"
      ]
     },
     "execution_count": 30,
     "metadata": {},
     "output_type": "execute_result"
    }
   ],
   "source": [
    "# convering a list of rows into a list of columns\n",
    "\n",
    "rows = [('Kalyan', 'Pendyala'), ('Akhilesh', 'surabhi'), ('Anurag', 'pendyala')]\n",
    "\n",
    "first_names, last_names = zip(*rows)\n",
    "first_names"
   ]
  },
  {
   "cell_type": "code",
   "execution_count": null,
   "metadata": {},
   "outputs": [],
   "source": [
    "last_names"
   ]
  },
  {
   "cell_type": "markdown",
   "metadata": {},
   "source": [
    "###### reversed"
   ]
  },
  {
   "cell_type": "code",
   "execution_count": null,
   "metadata": {},
   "outputs": [],
   "source": [
    "# iternates over the elements of the sequence in reverse order\n",
    "list(reversed(range(10)))"
   ]
  },
  {
   "cell_type": "markdown",
   "metadata": {},
   "source": [
    "###### dict"
   ]
  },
  {
   "cell_type": "code",
   "execution_count": null,
   "metadata": {},
   "outputs": [],
   "source": [
    "# dict is also called as hashmap or associative array\n",
    "# it is collection of key value pairs\n",
    "# key and value are python objects\n",
    "\n",
    "empty_dic = {}\n",
    "\n",
    "d1 = {'a':'some value', 'b': [1,2,3]}\n",
    "d1"
   ]
  },
  {
   "cell_type": "code",
   "execution_count": null,
   "metadata": {},
   "outputs": [],
   "source": [
    "d1['a']"
   ]
  },
  {
   "cell_type": "code",
   "execution_count": null,
   "metadata": {},
   "outputs": [],
   "source": [
    "d1[7] = 'an integer'\n",
    "d1"
   ]
  },
  {
   "cell_type": "code",
   "execution_count": null,
   "metadata": {},
   "outputs": [],
   "source": [
    "d1['b']"
   ]
  },
  {
   "cell_type": "code",
   "execution_count": null,
   "metadata": {},
   "outputs": [],
   "source": [
    "# check if a dict contains a key\n",
    "\n",
    "b in d1"
   ]
  },
  {
   "cell_type": "code",
   "execution_count": null,
   "metadata": {},
   "outputs": [],
   "source": [
    "# delete using del or pop methods\n",
    "\n",
    "d1[5] = 'dummy value'\n",
    "d1[10] = 'new value'\n",
    "d1"
   ]
  },
  {
   "cell_type": "code",
   "execution_count": null,
   "metadata": {},
   "outputs": [],
   "source": [
    "del d1[5]\n",
    "d1"
   ]
  },
  {
   "cell_type": "code",
   "execution_count": null,
   "metadata": {},
   "outputs": [],
   "source": [
    "ret = d1.pop('a')\n",
    "ret"
   ]
  },
  {
   "cell_type": "code",
   "execution_count": null,
   "metadata": {},
   "outputs": [],
   "source": [
    "# keys and values method give you iterators of the dict's keys and values\n",
    "\n",
    "list(d1.keys())"
   ]
  },
  {
   "cell_type": "code",
   "execution_count": null,
   "metadata": {},
   "outputs": [],
   "source": [
    "list(d1.values())"
   ]
  },
  {
   "cell_type": "code",
   "execution_count": null,
   "metadata": {},
   "outputs": [],
   "source": [
    "# merge one dict into another using update method\n",
    "\n",
    "d1.update({'b':'foo', 'z':'zoo', 'g':'goo'})\n",
    "d1"
   ]
  },
  {
   "cell_type": "markdown",
   "metadata": {},
   "source": [
    "###### creating dicts from sequences"
   ]
  },
  {
   "cell_type": "code",
   "execution_count": null,
   "metadata": {},
   "outputs": [],
   "source": [
    "# pairing up two sequences into dict\n",
    "\n",
    "mapping = {}\n",
    "\n",
    "seq1 = [1,2,3,4,5]\n",
    "seq2 = ['one','two','three', 'four', 'five']\n",
    "\n",
    "seq3 = zip(seq1, seq2)\n",
    "\n",
    "for key, value in zip(seq1, seq2):\n",
    "    mapping[key] = value\n",
    "\n",
    "mapping"
   ]
  },
  {
   "cell_type": "code",
   "execution_count": null,
   "metadata": {},
   "outputs": [],
   "source": [
    "# dict function accept list of  two tuples\n",
    "\n",
    "mapping = dict(zip(seq1, seq2))\n",
    "mapping"
   ]
  },
  {
   "cell_type": "markdown",
   "metadata": {},
   "source": [
    "###### Default Values in dictionary"
   ]
  },
  {
   "cell_type": "code",
   "execution_count": 32,
   "metadata": {},
   "outputs": [],
   "source": [
    "some_dict = {'a':1, 'b':2, 'c':3, 'd':4}\n",
    "default_value = 0"
   ]
  },
  {
   "cell_type": "code",
   "execution_count": 33,
   "metadata": {},
   "outputs": [
    {
     "name": "stdout",
     "output_type": "stream",
     "text": [
      "1\n",
      "None Default_value!!!\n"
     ]
    }
   ],
   "source": [
    "\"\"\"\n",
    "if key in some_dict:\n",
    "    value = some_dict[key]\n",
    "else:\n",
    "    value = default_value\n",
    "\"\"\"\n",
    "# it is very common to have methods like this.\n",
    "# dict methods get() and pop() can take default value to be returned\n",
    "# above funtion can be written as\n",
    "\n",
    "#print(some_dict['a'])\n",
    "#print(some_dict['b'])\n",
    "#print(some_dict['g']) # this function will give error\n",
    "\n",
    "# get() method is used to avoid this situation. \n",
    "# this method returns value of the given key, if present in the dictionary\n",
    "# if not then it will return null type of default value\n",
    "\n",
    "print(some_dict.get('a'))\n",
    "print(some_dict.get('g'), 'Default_value!!!')\n"
   ]
  },
  {
   "cell_type": "code",
   "execution_count": null,
   "metadata": {},
   "outputs": [],
   "source": [
    "#\n",
    "\n",
    "words = ['apple', 'ball', 'cat', 'computer', 'donkey']\n",
    "by_letter = {}\n",
    "\n",
    "for word in words:\n",
    "    letter = word[0]\n",
    "    if letter not in by_letter:\n",
    "        by_letter[letter] = [word]\n",
    "    else:\n",
    "        by_letter[letter].append(word)\n",
    "        \n",
    "\n",
    "by_letter"
   ]
  },
  {
   "cell_type": "code",
   "execution_count": null,
   "metadata": {},
   "outputs": [],
   "source": [
    "d = {}\n",
    "\n",
    "for word in words:\n",
    "    letter = word[0]\n",
    "    d.setdefault(letter, []).append(word)\n",
    "d"
   ]
  },
  {
   "cell_type": "code",
   "execution_count": null,
   "metadata": {},
   "outputs": [],
   "source": [
    "from collections import defaultdict\n",
    "\n",
    "z = {}\n",
    "z = defaultdict(list)\n",
    "for word in words:\n",
    "    z[word[0]].append(word)\n",
    "z"
   ]
  },
  {
   "cell_type": "markdown",
   "metadata": {},
   "source": [
    "###### valid dict key types"
   ]
  },
  {
   "cell_type": "code",
   "execution_count": null,
   "metadata": {},
   "outputs": [],
   "source": [
    "# while the values of a dict can be any python object, \n",
    "# the keys generally have to be immutable objects like scalar types or tuples (all the objects in the tuple need to be immutable)\n",
    "# The technical term is hashability. \n",
    "# You can check whether an object is hashable (can be used as key) with hash functions.\n",
    "\n",
    "hash('string')\n",
    "hash((1,2,(3,4,(5,6))))\n",
    "hash([1,2,3]) #fails because lists are mutable\n",
    "\n",
    "\n"
   ]
  },
  {
   "cell_type": "code",
   "execution_count": 34,
   "metadata": {},
   "outputs": [
    {
     "data": {
      "text/plain": [
       "{'a': 10, (1, 2, 3): 5}"
      ]
     },
     "execution_count": 34,
     "metadata": {},
     "output_type": "execute_result"
    }
   ],
   "source": [
    "# to use a list as a key, one option is to convert it into tuple, which can be hashed as long as elements also can.\n",
    "\n",
    "d = {}\n",
    "d['a']=10 #likewise following too\n",
    " \n",
    "d[tuple([1,2,3])] =5\n",
    "d"
   ]
  },
  {
   "cell_type": "markdown",
   "metadata": {},
   "source": [
    "###### set"
   ]
  },
  {
   "cell_type": "code",
   "execution_count": null,
   "metadata": {},
   "outputs": [],
   "source": [
    "# set is a unordered collection of unique elements\n",
    "# set can be created in two ways via set function or via curly braces\n",
    "\n",
    "set([1,1,2,2,3,3,4,4,4,4,5])"
   ]
  },
  {
   "cell_type": "code",
   "execution_count": null,
   "metadata": {},
   "outputs": [],
   "source": [
    "{1,1,2,2,3,3,4,4,5}"
   ]
  },
  {
   "cell_type": "code",
   "execution_count": null,
   "metadata": {},
   "outputs": [],
   "source": [
    "# sets support mathematical set operations like union, intersection, difference, and symmetric difference\n",
    "\n",
    "a = {1,2,3,4,5,6}\n",
    "b = {3,4,5,6,7,8}\n",
    "\n",
    "print(a.union(b))\n",
    "print(a | b)"
   ]
  },
  {
   "cell_type": "code",
   "execution_count": null,
   "metadata": {},
   "outputs": [],
   "source": [
    "print(a & b)\n",
    "print(a.intersection(b))"
   ]
  },
  {
   "cell_type": "code",
   "execution_count": null,
   "metadata": {},
   "outputs": [],
   "source": [
    "c = a.copy()\n",
    "c"
   ]
  },
  {
   "cell_type": "markdown",
   "metadata": {},
   "source": [
    "###### List, Set and Dict Comprehensions"
   ]
  },
  {
   "cell_type": "code",
   "execution_count": null,
   "metadata": {},
   "outputs": [],
   "source": [
    "\"\"\"\n",
    "List comprehension allows you to FORM NEW LISTS by\n",
    "        - filtering the elements\n",
    "        - Transforming the elements\n",
    "\n",
    "[expr for val in collection if condition]\n",
    "\n",
    "\"\"\""
   ]
  },
  {
   "cell_type": "code",
   "execution_count": null,
   "metadata": {},
   "outputs": [],
   "source": [
    "strings = ['a', 'as', 'an', 'the','cat', 'dove']\n",
    "\n",
    "[x.upper() for x in strings if len(x)>2]"
   ]
  },
  {
   "cell_type": "code",
   "execution_count": null,
   "metadata": {},
   "outputs": [],
   "source": [
    "unique_lengths = [len(x) for x in strings if len]\n",
    "unique_lengths"
   ]
  },
  {
   "cell_type": "code",
   "execution_count": null,
   "metadata": {},
   "outputs": [],
   "source": [
    "set(map(len, strings))"
   ]
  },
  {
   "cell_type": "code",
   "execution_count": null,
   "metadata": {},
   "outputs": [],
   "source": [
    "# dict comprehensions\n",
    "\n",
    "loc_mapping = {val: index for index, val in enumerate(strings)}\n",
    "loc_mapping"
   ]
  },
  {
   "cell_type": "markdown",
   "metadata": {},
   "source": [
    "###### Nested List Comprehensions"
   ]
  },
  {
   "cell_type": "code",
   "execution_count": null,
   "metadata": {},
   "outputs": [],
   "source": [
    "all_data = [['sayee','kishor','rehman','abdullah','vincent'],['karan','abhi','rajesh','eshwar']]\n",
    "\n",
    "names_of_interest = []\n",
    "\n",
    "for names in all_data:\n",
    "    enough_es = [name for name in names if name.count('e')>=2]\n",
    "    names_of_interest.append(enough_es)\n",
    "\n",
    "names_of_interest\n",
    "    \n",
    "    "
   ]
  },
  {
   "cell_type": "code",
   "execution_count": null,
   "metadata": {},
   "outputs": [],
   "source": [
    "result = [name for names in all_data for name in names if name.count('e')>=2]"
   ]
  }
 ],
 "metadata": {
  "kernelspec": {
   "display_name": "Python 3",
   "language": "python",
   "name": "python3"
  },
  "language_info": {
   "codemirror_mode": {
    "name": "ipython",
    "version": 3
   },
   "file_extension": ".py",
   "mimetype": "text/x-python",
   "name": "python",
   "nbconvert_exporter": "python",
   "pygments_lexer": "ipython3",
   "version": "3.7.2"
  }
 },
 "nbformat": 4,
 "nbformat_minor": 2
}
